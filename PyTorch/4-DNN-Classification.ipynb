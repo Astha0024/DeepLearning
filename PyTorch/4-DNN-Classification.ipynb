{
 "cells": [
  {
   "cell_type": "markdown",
   "id": "0f125210-5ad9-424d-99bc-e64006a22fc3",
   "metadata": {},
   "source": [
    "To understand the factors that lead a person to look for a job change, the agency wants you to design a model that uses the current credentials/demographics/experience to predict the probability of an enrollee looking for a new job ( 0 or 1)"
   ]
  },
  {
   "cell_type": "code",
   "execution_count": 1,
   "id": "83213666-977b-408d-adfc-9790e3ee2773",
   "metadata": {},
   "outputs": [],
   "source": [
    "import pandas as pd\n",
    "import numpy as np"
   ]
  },
  {
   "cell_type": "code",
   "execution_count": 2,
   "id": "3c9a7756-38a1-4219-8931-ede1ac967909",
   "metadata": {},
   "outputs": [
    {
     "data": {
      "text/html": [
       "<div>\n",
       "<style scoped>\n",
       "    .dataframe tbody tr th:only-of-type {\n",
       "        vertical-align: middle;\n",
       "    }\n",
       "\n",
       "    .dataframe tbody tr th {\n",
       "        vertical-align: top;\n",
       "    }\n",
       "\n",
       "    .dataframe thead th {\n",
       "        text-align: right;\n",
       "    }\n",
       "</style>\n",
       "<table border=\"1\" class=\"dataframe\">\n",
       "  <thead>\n",
       "    <tr style=\"text-align: right;\">\n",
       "      <th></th>\n",
       "      <th>enrollee_id</th>\n",
       "      <th>city</th>\n",
       "      <th>city_development_index</th>\n",
       "      <th>gender</th>\n",
       "      <th>relevent_experience</th>\n",
       "      <th>enrolled_university</th>\n",
       "      <th>education_level</th>\n",
       "      <th>major_discipline</th>\n",
       "      <th>experience</th>\n",
       "      <th>company_size</th>\n",
       "      <th>company_type</th>\n",
       "      <th>last_new_job</th>\n",
       "      <th>training_hours</th>\n",
       "      <th>target</th>\n",
       "    </tr>\n",
       "  </thead>\n",
       "  <tbody>\n",
       "    <tr>\n",
       "      <th>0</th>\n",
       "      <td>23798</td>\n",
       "      <td>city_149</td>\n",
       "      <td>0.689</td>\n",
       "      <td>Male</td>\n",
       "      <td>Has relevent experience</td>\n",
       "      <td>no_enrollment</td>\n",
       "      <td>Graduate</td>\n",
       "      <td>STEM</td>\n",
       "      <td>3</td>\n",
       "      <td>100-500</td>\n",
       "      <td>Pvt Ltd</td>\n",
       "      <td>1</td>\n",
       "      <td>106</td>\n",
       "      <td>0</td>\n",
       "    </tr>\n",
       "    <tr>\n",
       "      <th>1</th>\n",
       "      <td>29166</td>\n",
       "      <td>city_83</td>\n",
       "      <td>0.923</td>\n",
       "      <td>Male</td>\n",
       "      <td>Has relevent experience</td>\n",
       "      <td>no_enrollment</td>\n",
       "      <td>Graduate</td>\n",
       "      <td>STEM</td>\n",
       "      <td>14</td>\n",
       "      <td>&lt;10</td>\n",
       "      <td>Funded Startup</td>\n",
       "      <td>1</td>\n",
       "      <td>69</td>\n",
       "      <td>0</td>\n",
       "    </tr>\n",
       "    <tr>\n",
       "      <th>2</th>\n",
       "      <td>46</td>\n",
       "      <td>city_16</td>\n",
       "      <td>0.910</td>\n",
       "      <td>NaN</td>\n",
       "      <td>Has relevent experience</td>\n",
       "      <td>no_enrollment</td>\n",
       "      <td>Graduate</td>\n",
       "      <td>STEM</td>\n",
       "      <td>6</td>\n",
       "      <td>50-99</td>\n",
       "      <td>Public Sector</td>\n",
       "      <td>2</td>\n",
       "      <td>4</td>\n",
       "      <td>0</td>\n",
       "    </tr>\n",
       "    <tr>\n",
       "      <th>3</th>\n",
       "      <td>18527</td>\n",
       "      <td>city_64</td>\n",
       "      <td>0.666</td>\n",
       "      <td>Male</td>\n",
       "      <td>Has relevent experience</td>\n",
       "      <td>no_enrollment</td>\n",
       "      <td>Graduate</td>\n",
       "      <td>STEM</td>\n",
       "      <td>14</td>\n",
       "      <td>50-99</td>\n",
       "      <td>Pvt Ltd</td>\n",
       "      <td>1</td>\n",
       "      <td>26</td>\n",
       "      <td>0</td>\n",
       "    </tr>\n",
       "    <tr>\n",
       "      <th>4</th>\n",
       "      <td>21751</td>\n",
       "      <td>city_100</td>\n",
       "      <td>0.887</td>\n",
       "      <td>NaN</td>\n",
       "      <td>No relevent experience</td>\n",
       "      <td>no_enrollment</td>\n",
       "      <td>Masters</td>\n",
       "      <td>STEM</td>\n",
       "      <td>8</td>\n",
       "      <td>NaN</td>\n",
       "      <td>NaN</td>\n",
       "      <td>2</td>\n",
       "      <td>88</td>\n",
       "      <td>1</td>\n",
       "    </tr>\n",
       "  </tbody>\n",
       "</table>\n",
       "</div>"
      ],
      "text/plain": [
       "   enrollee_id      city  city_development_index gender  \\\n",
       "0        23798  city_149                   0.689   Male   \n",
       "1        29166   city_83                   0.923   Male   \n",
       "2           46   city_16                   0.910    NaN   \n",
       "3        18527   city_64                   0.666   Male   \n",
       "4        21751  city_100                   0.887    NaN   \n",
       "\n",
       "       relevent_experience enrolled_university education_level  \\\n",
       "0  Has relevent experience       no_enrollment        Graduate   \n",
       "1  Has relevent experience       no_enrollment        Graduate   \n",
       "2  Has relevent experience       no_enrollment        Graduate   \n",
       "3  Has relevent experience       no_enrollment        Graduate   \n",
       "4   No relevent experience       no_enrollment         Masters   \n",
       "\n",
       "  major_discipline experience company_size    company_type last_new_job  \\\n",
       "0             STEM          3      100-500         Pvt Ltd            1   \n",
       "1             STEM         14          <10  Funded Startup            1   \n",
       "2             STEM          6        50-99   Public Sector            2   \n",
       "3             STEM         14        50-99         Pvt Ltd            1   \n",
       "4             STEM          8          NaN             NaN            2   \n",
       "\n",
       "   training_hours  target  \n",
       "0             106       0  \n",
       "1              69       0  \n",
       "2               4       0  \n",
       "3              26       0  \n",
       "4              88       1  "
      ]
     },
     "execution_count": 2,
     "metadata": {},
     "output_type": "execute_result"
    }
   ],
   "source": [
    "# Loading data\n",
    "df = pd.read_csv('Zeta_Analytics Dataset.csv')\n",
    "df.head()"
   ]
  },
  {
   "cell_type": "code",
   "execution_count": 3,
   "id": "d148e4ad-1e0c-4dea-8b2f-8374ec84c769",
   "metadata": {},
   "outputs": [
    {
     "name": "stdout",
     "output_type": "stream",
     "text": [
      "<class 'pandas.core.frame.DataFrame'>\n",
      "RangeIndex: 18359 entries, 0 to 18358\n",
      "Data columns (total 14 columns):\n",
      " #   Column                  Non-Null Count  Dtype  \n",
      "---  ------                  --------------  -----  \n",
      " 0   enrollee_id             18359 non-null  int64  \n",
      " 1   city                    18359 non-null  object \n",
      " 2   city_development_index  18359 non-null  float64\n",
      " 3   gender                  14261 non-null  object \n",
      " 4   relevent_experience     18359 non-null  object \n",
      " 5   enrolled_university     18017 non-null  object \n",
      " 6   education_level         17902 non-null  object \n",
      " 7   major_discipline        15521 non-null  object \n",
      " 8   experience              18300 non-null  object \n",
      " 9   company_size            13580 non-null  object \n",
      " 10  company_type            13320 non-null  object \n",
      " 11  last_new_job            17992 non-null  object \n",
      " 12  training_hours          18359 non-null  int64  \n",
      " 13  target                  18359 non-null  int64  \n",
      "dtypes: float64(1), int64(3), object(10)\n",
      "memory usage: 2.0+ MB\n"
     ]
    }
   ],
   "source": [
    "df.info()"
   ]
  },
  {
   "cell_type": "markdown",
   "id": "f122f02b-e182-4f09-8c8b-49bab137a021",
   "metadata": {},
   "source": [
    "### Data Preprocessing"
   ]
  },
  {
   "cell_type": "code",
   "execution_count": 4,
   "id": "fd0199f9-f901-476e-b4aa-f5c3fd2d8599",
   "metadata": {},
   "outputs": [
    {
     "name": "stdout",
     "output_type": "stream",
     "text": [
      "Columns with NaNs: ['gender', 'enrolled_university', 'education_level', 'major_discipline', 'experience', 'company_size', 'company_type', 'last_new_job']\n",
      "Number of columns with nans: 8\n"
     ]
    }
   ],
   "source": [
    "columns_with_nans = df.columns[df.isna().any()].tolist()\n",
    "\n",
    "# Print the names of columns with NaNs\n",
    "print(\"Columns with NaNs:\", columns_with_nans)\n",
    "print(\"Number of columns with nans:\", len(columns_with_nans))"
   ]
  },
  {
   "cell_type": "code",
   "execution_count": 5,
   "id": "bba49f30-1f4c-4b0a-84b1-e5ebc8f048ec",
   "metadata": {},
   "outputs": [],
   "source": [
    "cat_miss_cols = ['gender', 'enrolled_university', 'education_level', 'major_discipline','company_size', 'company_type']"
   ]
  },
  {
   "cell_type": "code",
   "execution_count": 6,
   "id": "15a9f174-621e-4584-af04-3cfc8245c232",
   "metadata": {},
   "outputs": [
    {
     "name": "stdout",
     "output_type": "stream",
     "text": [
      "['Male' nan 'Female' 'Other']\n",
      "['no_enrollment' 'Full time course' 'Part time course' nan]\n",
      "['Graduate' 'Masters' 'High School' 'Phd' nan 'Primary School']\n",
      "['STEM' 'Other' 'No Major' nan 'Business Degree' 'Arts' 'Humanities']\n",
      "['100-500' '<10' '50-99' nan '5000-9999' '10000+' '1000-4999' '500-999'\n",
      " '10/49']\n",
      "['Pvt Ltd' 'Funded Startup' 'Public Sector' nan 'Early Stage Startup'\n",
      " 'NGO' 'Other']\n"
     ]
    }
   ],
   "source": [
    "for col in cat_miss_cols:\n",
    "    print(df[col].unique())"
   ]
  },
  {
   "cell_type": "code",
   "execution_count": 7,
   "id": "bfa0dff5-fbed-47b7-b6ef-d532d9307069",
   "metadata": {},
   "outputs": [],
   "source": [
    "df[cat_miss_cols] = df[cat_miss_cols].fillna('NA')"
   ]
  },
  {
   "cell_type": "code",
   "execution_count": 8,
   "id": "7e4fe685-1c7e-48a4-bc68-8886e6fc9ef8",
   "metadata": {},
   "outputs": [
    {
     "name": "stdout",
     "output_type": "stream",
     "text": [
      "Columns with NaNs: ['experience', 'last_new_job']\n",
      "Number of columns with nans: 2\n"
     ]
    }
   ],
   "source": [
    "columns_with_nans = df.columns[df.isna().any()].tolist()\n",
    "\n",
    "# Print the names of columns with NaNs\n",
    "print(\"Columns with NaNs:\", columns_with_nans)\n",
    "print(\"Number of columns with nans:\", len(columns_with_nans))"
   ]
  },
  {
   "cell_type": "code",
   "execution_count": 9,
   "id": "ed2beff6-d316-4c3c-bb14-28cd39600609",
   "metadata": {},
   "outputs": [
    {
     "name": "stdout",
     "output_type": "stream",
     "text": [
      "['3' '14' '6' '8' '>20' '4' '9' '15' '10' '1' '5' '16' '11' '12' '7' '2'\n",
      " '13' '<1' '19' '18' '17' nan '20']\n",
      "['1' '2' '3' '>4' 'never' '4' nan]\n"
     ]
    }
   ],
   "source": [
    "num_miss_cols = ['experience', 'last_new_job']\n",
    "for col in num_miss_cols:\n",
    "    print(df[col].unique())"
   ]
  },
  {
   "cell_type": "code",
   "execution_count": 10,
   "id": "115aa1b5-1ee1-4ce8-bef9-d835a1a35ded",
   "metadata": {},
   "outputs": [],
   "source": [
    "for column in num_miss_cols:\n",
    "    # This will replace any '>' or '<' with an empty string\n",
    "    df[column] = df[column].astype(str).str.replace('>', '').astype(str).str.replace('<', '')\n",
    "    df[column] = df[column].astype(str).str.replace('never', '0')"
   ]
  },
  {
   "cell_type": "code",
   "execution_count": 11,
   "id": "b34bc038-4083-4b8c-95c0-901347d89f23",
   "metadata": {},
   "outputs": [],
   "source": [
    "for col in num_miss_cols:\n",
    "    df[col] = pd.to_numeric(df[col].replace('nan', np.NaN))"
   ]
  },
  {
   "cell_type": "markdown",
   "id": "d72e3e10-3854-41f6-a3b1-61e428a0fa23",
   "metadata": {},
   "source": [
    "For these 2 columns experience and last job, the idea is to fill them using a median value since they are key features and replacing them with zeroes may impact the model performance. We will do this with median from train data, after splitting the dataset, to prevent data leakage. "
   ]
  },
  {
   "cell_type": "code",
   "execution_count": 12,
   "id": "64e3cd68-5ad4-4398-bdd8-3630dcf31c9d",
   "metadata": {},
   "outputs": [
    {
     "data": {
      "text/plain": [
       "Index(['city', 'gender', 'relevent_experience', 'enrolled_university',\n",
       "       'education_level', 'major_discipline', 'company_size', 'company_type'],\n",
       "      dtype='object')"
      ]
     },
     "execution_count": 12,
     "metadata": {},
     "output_type": "execute_result"
    }
   ],
   "source": [
    "cat_cols = df.select_dtypes(include='O').columns\n",
    "cat_cols"
   ]
  },
  {
   "cell_type": "code",
   "execution_count": 13,
   "id": "816703d6-e2d2-41d0-9882-288291921c83",
   "metadata": {},
   "outputs": [
    {
     "name": "stdout",
     "output_type": "stream",
     "text": [
      "city\n",
      "123\n",
      "gender\n",
      "4\n",
      "relevent_experience\n",
      "2\n",
      "enrolled_university\n",
      "4\n",
      "education_level\n",
      "6\n",
      "major_discipline\n",
      "7\n",
      "company_size\n",
      "9\n",
      "company_type\n",
      "7\n"
     ]
    }
   ],
   "source": [
    "for col in cat_cols:\n",
    "    print(col)\n",
    "    print(df[col].nunique())"
   ]
  },
  {
   "cell_type": "markdown",
   "id": "265cd9a4-2e3d-4d4a-b730-2e1270f51189",
   "metadata": {},
   "source": [
    "In these columns, thec column \"City\" has too many categories, which may not add any value as such to the models training. We will be dropping it. You may try to see the performnace by using this columns as well. Also the column \"Enrollee_id\" is an ID column, that too can be dropped."
   ]
  },
  {
   "cell_type": "code",
   "execution_count": 14,
   "id": "543d4320-7e8e-4d78-8d38-516828405591",
   "metadata": {},
   "outputs": [],
   "source": [
    "df.drop(['enrollee_id', 'city'], axis=1, inplace=True)\n",
    "cat_cols = df.select_dtypes(include='O').columns\n"
   ]
  },
  {
   "cell_type": "code",
   "execution_count": 15,
   "id": "6bdd9c5f-8dcf-4f13-bf18-42de8ed922e1",
   "metadata": {},
   "outputs": [
    {
     "name": "stdout",
     "output_type": "stream",
     "text": [
      "gender\n",
      "['Male' 'NA' 'Female' 'Other']\n",
      "relevent_experience\n",
      "['Has relevent experience' 'No relevent experience']\n",
      "enrolled_university\n",
      "['no_enrollment' 'Full time course' 'Part time course' 'NA']\n",
      "education_level\n",
      "['Graduate' 'Masters' 'High School' 'Phd' 'NA' 'Primary School']\n",
      "major_discipline\n",
      "['STEM' 'Other' 'No Major' 'NA' 'Business Degree' 'Arts' 'Humanities']\n",
      "company_size\n",
      "['100-500' '<10' '50-99' 'NA' '5000-9999' '10000+' '1000-4999' '500-999'\n",
      " '10/49']\n",
      "company_type\n",
      "['Pvt Ltd' 'Funded Startup' 'Public Sector' 'NA' 'Early Stage Startup'\n",
      " 'NGO' 'Other']\n"
     ]
    }
   ],
   "source": [
    "for col in cat_cols:\n",
    "    print(col)\n",
    "    print(df[col].unique())"
   ]
  },
  {
   "cell_type": "markdown",
   "id": "7143a9b9-a50f-4c39-8e8b-5cf01da8be45",
   "metadata": {},
   "source": [
    "Further, over here columns like  \"education level\" and \"company size\" have a clear order, and will be transformed using an ordinal encoder, with NA in between. Others will be transformed using One hot encoder. \n",
    "An ordinal encoder is a technique used to convert categorical data into integer codes, ranging from 0 to n-1, where n is the number of unique categories for the feature. Unlike one-hot encoding, which creates a new binary column for each category, ordinal encoding maintains a single column and assigns a unique integer to each category in an order."
   ]
  },
  {
   "cell_type": "code",
   "execution_count": 16,
   "id": "c0e379cc-aaa5-47e8-b192-e1bb462939ed",
   "metadata": {},
   "outputs": [],
   "source": [
    "from sklearn.preprocessing import  OrdinalEncoder"
   ]
  },
  {
   "cell_type": "code",
   "execution_count": 17,
   "id": "dbf2e956-9669-49ef-9b89-5bbc60debe86",
   "metadata": {},
   "outputs": [
    {
     "data": {
      "text/plain": [
       "[array(['Primary School', 'High School', 'NA', 'Graduate', 'Masters',\n",
       "        'Phd'], dtype=object)]"
      ]
     },
     "execution_count": 17,
     "metadata": {},
     "output_type": "execute_result"
    }
   ],
   "source": [
    "oc = OrdinalEncoder(\n",
    "    categories= [['Primary School', 'High School', 'NA','Graduate', 'Masters', 'Phd' ]])\n",
    "df[['education_level']] = oc.fit_transform(df[['education_level']])\n",
    "oc.categories_"
   ]
  },
  {
   "cell_type": "code",
   "execution_count": 18,
   "id": "e30154c7-403c-43ab-b3e3-5e78f373275b",
   "metadata": {},
   "outputs": [
    {
     "data": {
      "text/plain": [
       "[array(['<10', '10/49', '50-99', '100-500', '500-999', 'NA', '1000-4999',\n",
       "        '5000-9999', '10000+'], dtype=object)]"
      ]
     },
     "execution_count": 18,
     "metadata": {},
     "output_type": "execute_result"
    }
   ],
   "source": [
    "oc2 = OrdinalEncoder(\n",
    "    categories= [[ '<10', '10/49', '50-99', '100-500', '500-999', 'NA', '1000-4999', '5000-9999', '10000+']])\n",
    "df[['company_size']] = oc2.fit_transform(df[['company_size']])\n",
    "oc2.categories_"
   ]
  },
  {
   "cell_type": "code",
   "execution_count": 19,
   "id": "bfcaa925-fdf0-492c-9165-5a1275efc1da",
   "metadata": {},
   "outputs": [
    {
     "data": {
      "text/html": [
       "<div>\n",
       "<style scoped>\n",
       "    .dataframe tbody tr th:only-of-type {\n",
       "        vertical-align: middle;\n",
       "    }\n",
       "\n",
       "    .dataframe tbody tr th {\n",
       "        vertical-align: top;\n",
       "    }\n",
       "\n",
       "    .dataframe thead th {\n",
       "        text-align: right;\n",
       "    }\n",
       "</style>\n",
       "<table border=\"1\" class=\"dataframe\">\n",
       "  <thead>\n",
       "    <tr style=\"text-align: right;\">\n",
       "      <th></th>\n",
       "      <th>city_development_index</th>\n",
       "      <th>education_level</th>\n",
       "      <th>experience</th>\n",
       "      <th>company_size</th>\n",
       "      <th>last_new_job</th>\n",
       "      <th>training_hours</th>\n",
       "      <th>target</th>\n",
       "      <th>gender_Male</th>\n",
       "      <th>gender_NA</th>\n",
       "      <th>gender_Other</th>\n",
       "      <th>...</th>\n",
       "      <th>major_discipline_NA</th>\n",
       "      <th>major_discipline_No Major</th>\n",
       "      <th>major_discipline_Other</th>\n",
       "      <th>major_discipline_STEM</th>\n",
       "      <th>company_type_Funded Startup</th>\n",
       "      <th>company_type_NA</th>\n",
       "      <th>company_type_NGO</th>\n",
       "      <th>company_type_Other</th>\n",
       "      <th>company_type_Public Sector</th>\n",
       "      <th>company_type_Pvt Ltd</th>\n",
       "    </tr>\n",
       "  </thead>\n",
       "  <tbody>\n",
       "    <tr>\n",
       "      <th>0</th>\n",
       "      <td>0.689</td>\n",
       "      <td>3.0</td>\n",
       "      <td>3.0</td>\n",
       "      <td>3.0</td>\n",
       "      <td>1.0</td>\n",
       "      <td>106</td>\n",
       "      <td>0</td>\n",
       "      <td>True</td>\n",
       "      <td>False</td>\n",
       "      <td>False</td>\n",
       "      <td>...</td>\n",
       "      <td>False</td>\n",
       "      <td>False</td>\n",
       "      <td>False</td>\n",
       "      <td>True</td>\n",
       "      <td>False</td>\n",
       "      <td>False</td>\n",
       "      <td>False</td>\n",
       "      <td>False</td>\n",
       "      <td>False</td>\n",
       "      <td>True</td>\n",
       "    </tr>\n",
       "    <tr>\n",
       "      <th>1</th>\n",
       "      <td>0.923</td>\n",
       "      <td>3.0</td>\n",
       "      <td>14.0</td>\n",
       "      <td>0.0</td>\n",
       "      <td>1.0</td>\n",
       "      <td>69</td>\n",
       "      <td>0</td>\n",
       "      <td>True</td>\n",
       "      <td>False</td>\n",
       "      <td>False</td>\n",
       "      <td>...</td>\n",
       "      <td>False</td>\n",
       "      <td>False</td>\n",
       "      <td>False</td>\n",
       "      <td>True</td>\n",
       "      <td>True</td>\n",
       "      <td>False</td>\n",
       "      <td>False</td>\n",
       "      <td>False</td>\n",
       "      <td>False</td>\n",
       "      <td>False</td>\n",
       "    </tr>\n",
       "    <tr>\n",
       "      <th>2</th>\n",
       "      <td>0.910</td>\n",
       "      <td>3.0</td>\n",
       "      <td>6.0</td>\n",
       "      <td>2.0</td>\n",
       "      <td>2.0</td>\n",
       "      <td>4</td>\n",
       "      <td>0</td>\n",
       "      <td>False</td>\n",
       "      <td>True</td>\n",
       "      <td>False</td>\n",
       "      <td>...</td>\n",
       "      <td>False</td>\n",
       "      <td>False</td>\n",
       "      <td>False</td>\n",
       "      <td>True</td>\n",
       "      <td>False</td>\n",
       "      <td>False</td>\n",
       "      <td>False</td>\n",
       "      <td>False</td>\n",
       "      <td>True</td>\n",
       "      <td>False</td>\n",
       "    </tr>\n",
       "    <tr>\n",
       "      <th>3</th>\n",
       "      <td>0.666</td>\n",
       "      <td>3.0</td>\n",
       "      <td>14.0</td>\n",
       "      <td>2.0</td>\n",
       "      <td>1.0</td>\n",
       "      <td>26</td>\n",
       "      <td>0</td>\n",
       "      <td>True</td>\n",
       "      <td>False</td>\n",
       "      <td>False</td>\n",
       "      <td>...</td>\n",
       "      <td>False</td>\n",
       "      <td>False</td>\n",
       "      <td>False</td>\n",
       "      <td>True</td>\n",
       "      <td>False</td>\n",
       "      <td>False</td>\n",
       "      <td>False</td>\n",
       "      <td>False</td>\n",
       "      <td>False</td>\n",
       "      <td>True</td>\n",
       "    </tr>\n",
       "    <tr>\n",
       "      <th>4</th>\n",
       "      <td>0.887</td>\n",
       "      <td>4.0</td>\n",
       "      <td>8.0</td>\n",
       "      <td>5.0</td>\n",
       "      <td>2.0</td>\n",
       "      <td>88</td>\n",
       "      <td>1</td>\n",
       "      <td>False</td>\n",
       "      <td>True</td>\n",
       "      <td>False</td>\n",
       "      <td>...</td>\n",
       "      <td>False</td>\n",
       "      <td>False</td>\n",
       "      <td>False</td>\n",
       "      <td>True</td>\n",
       "      <td>False</td>\n",
       "      <td>True</td>\n",
       "      <td>False</td>\n",
       "      <td>False</td>\n",
       "      <td>False</td>\n",
       "      <td>False</td>\n",
       "    </tr>\n",
       "  </tbody>\n",
       "</table>\n",
       "<p>5 rows × 26 columns</p>\n",
       "</div>"
      ],
      "text/plain": [
       "   city_development_index  education_level  experience  company_size  \\\n",
       "0                   0.689              3.0         3.0           3.0   \n",
       "1                   0.923              3.0        14.0           0.0   \n",
       "2                   0.910              3.0         6.0           2.0   \n",
       "3                   0.666              3.0        14.0           2.0   \n",
       "4                   0.887              4.0         8.0           5.0   \n",
       "\n",
       "   last_new_job  training_hours  target  gender_Male  gender_NA  gender_Other  \\\n",
       "0           1.0             106       0         True      False         False   \n",
       "1           1.0              69       0         True      False         False   \n",
       "2           2.0               4       0        False       True         False   \n",
       "3           1.0              26       0         True      False         False   \n",
       "4           2.0              88       1        False       True         False   \n",
       "\n",
       "   ...  major_discipline_NA  major_discipline_No Major  \\\n",
       "0  ...                False                      False   \n",
       "1  ...                False                      False   \n",
       "2  ...                False                      False   \n",
       "3  ...                False                      False   \n",
       "4  ...                False                      False   \n",
       "\n",
       "   major_discipline_Other  major_discipline_STEM  company_type_Funded Startup  \\\n",
       "0                   False                   True                        False   \n",
       "1                   False                   True                         True   \n",
       "2                   False                   True                        False   \n",
       "3                   False                   True                        False   \n",
       "4                   False                   True                        False   \n",
       "\n",
       "   company_type_NA  company_type_NGO  company_type_Other  \\\n",
       "0            False             False               False   \n",
       "1            False             False               False   \n",
       "2            False             False               False   \n",
       "3            False             False               False   \n",
       "4             True             False               False   \n",
       "\n",
       "   company_type_Public Sector  company_type_Pvt Ltd  \n",
       "0                       False                  True  \n",
       "1                       False                 False  \n",
       "2                        True                 False  \n",
       "3                       False                  True  \n",
       "4                       False                 False  \n",
       "\n",
       "[5 rows x 26 columns]"
      ]
     },
     "execution_count": 19,
     "metadata": {},
     "output_type": "execute_result"
    }
   ],
   "source": [
    "df = pd.get_dummies(df, drop_first=True)\n",
    "df.head()"
   ]
  },
  {
   "cell_type": "markdown",
   "id": "78a40997-71dd-480a-b19c-d0c45136d16e",
   "metadata": {},
   "source": [
    "### Train and Test"
   ]
  },
  {
   "cell_type": "code",
   "execution_count": 20,
   "id": "52ce11a8-86c7-4220-8c68-33680fc32a78",
   "metadata": {},
   "outputs": [],
   "source": [
    "from sklearn.model_selection import train_test_split"
   ]
  },
  {
   "cell_type": "code",
   "execution_count": 21,
   "id": "8e11e087-c798-4b09-b4b7-8a5cd2657d15",
   "metadata": {},
   "outputs": [],
   "source": [
    "# Split data\n",
    "X = df.drop('target', axis=1)\n",
    "y = df['target']\n",
    "# test_size of 0.2 means train_size is 80% and test_size is 20$\n",
    "X_train, X_test, y_train, y_test = train_test_split(X, y, test_size=0.2, random_state=42)\n"
   ]
  },
  {
   "cell_type": "code",
   "execution_count": 22,
   "id": "2b7860a2-ead3-4da0-b035-85f66e52d55b",
   "metadata": {},
   "outputs": [
    {
     "name": "stdout",
     "output_type": "stream",
     "text": [
      "9.0\n",
      "1.0\n"
     ]
    }
   ],
   "source": [
    "exp_median = X_train['experience'].median()\n",
    "print(exp_median)\n",
    "\n",
    "X_train.fillna({'experience': exp_median}, inplace=True)\n",
    "X_test.fillna({'experience': exp_median}, inplace=True)\n",
    "\n",
    "lnj_median = X_train['last_new_job'].median()\n",
    "print(lnj_median)\n",
    "\n",
    "X_train.fillna({'last_new_job': lnj_median}, inplace=True)\n",
    "X_test.fillna({'last_new_job': lnj_median}, inplace=True)\n"
   ]
  },
  {
   "cell_type": "code",
   "execution_count": 23,
   "id": "bc43dded-720d-4219-a034-831e404ebd48",
   "metadata": {},
   "outputs": [],
   "source": [
    "from sklearn.preprocessing import MinMaxScaler"
   ]
  },
  {
   "cell_type": "code",
   "execution_count": 24,
   "id": "e72848c7-3a7b-44ec-bf50-1fba57b4f177",
   "metadata": {},
   "outputs": [],
   "source": [
    "# Normalize data by scaling the train and test datasets\n",
    "scaler = MinMaxScaler()\n",
    "X_train = scaler.fit_transform(X_train)\n",
    "X_test = scaler.transform(X_test)\n",
    "y_train = y_train.values\n",
    "y_test = y_test.values\n"
   ]
  },
  {
   "cell_type": "code",
   "execution_count": 25,
   "id": "9759c8f1-aa7d-4bf6-9a5c-fab3ceb45000",
   "metadata": {},
   "outputs": [
    {
     "data": {
      "text/plain": [
       "target\n",
       "0    15934\n",
       "1     2425\n",
       "Name: count, dtype: int64"
      ]
     },
     "execution_count": 25,
     "metadata": {},
     "output_type": "execute_result"
    }
   ],
   "source": [
    "df.target.value_counts()"
   ]
  },
  {
   "cell_type": "markdown",
   "id": "13edc904-b66b-4f0b-baeb-d529359a6425",
   "metadata": {},
   "source": [
    "The dataset is imbalanced. So we can use a metric like auc score as the metric for this problem."
   ]
  },
  {
   "cell_type": "markdown",
   "id": "5550545e-c995-4273-b5a0-b3889e0544f6",
   "metadata": {},
   "source": [
    "### Train neural network"
   ]
  },
  {
   "cell_type": "code",
   "execution_count": 27,
   "id": "26a4c99c-d7ed-4f6c-96d0-621f317600df",
   "metadata": {},
   "outputs": [],
   "source": [
    "import torch\n",
    "import torch.nn as nn\n",
    "import torch.nn.functional as F\n",
    "from torch.utils.data import TensorDataset, DataLoader, Dataset\n",
    "import torch.optim as optim\n",
    "from sklearn.metrics import roc_auc_score\n",
    "import matplotlib.pyplot as plt"
   ]
  },
  {
   "cell_type": "code",
   "execution_count": 28,
   "id": "838a8398-12b9-4609-9585-3438258dbcaa",
   "metadata": {},
   "outputs": [],
   "source": [
    "# Encapsulate out dataset as a class, which inherits from the torch Dataset class\n",
    "class JobChangeDataset(Dataset):\n",
    "    def __init__(self, features, labels):\n",
    "        self.features = features\n",
    "        self.labels = labels\n",
    "\n",
    "    def __len__(self):\n",
    "        return len(self.features)\n",
    "\n",
    "    def __getitem__(self, idx):\n",
    "        return self.features[idx], self.labels[idx]"
   ]
  },
  {
   "cell_type": "code",
   "execution_count": 29,
   "id": "aed872e5-cde6-48e7-b117-58b77cc64fc6",
   "metadata": {},
   "outputs": [],
   "source": [
    "# Define the neural network Model\n",
    "class BinaryClassifier(nn.Module):\n",
    "    def __init__(self):\n",
    "        super(BinaryClassifier, self).__init__()\n",
    "        self.layer1 = nn.Linear(X_train.shape[1], 256)\n",
    "        self.layer2 = nn.Linear(256, 128)\n",
    "        self.layer3 = nn.Linear(128, 64)\n",
    "        self.layer4 = nn.Linear(64, 1)\n",
    "        \n",
    "    def forward(self, x):\n",
    "        x = F.relu(self.layer1(x))\n",
    "        x = F.relu(self.layer2(x))\n",
    "        x = F.relu(self.layer3(x))\n",
    "        x = F.sigmoid(self.layer4(x))\n",
    "        return x\n"
   ]
  },
  {
   "cell_type": "code",
   "execution_count": 30,
   "id": "b359ba7b-1fe6-4a66-a933-b611a7a0877a",
   "metadata": {},
   "outputs": [],
   "source": [
    "import torch\n",
    "# Convert numpy to PyTorch tensors\n",
    "X_train_tensor = torch.tensor(X_train, dtype=torch.float32)\n",
    "y_train_tensor = torch.tensor(y_train, dtype=torch.float32)\n",
    "X_test_tensor = torch.tensor(X_test, dtype=torch.float32)\n",
    "y_test_tensor = torch.tensor(y_test, dtype=torch.float32)"
   ]
  },
  {
   "cell_type": "code",
   "execution_count": 31,
   "id": "e64b583f-5e96-414e-8fa6-315cf8968c78",
   "metadata": {},
   "outputs": [],
   "source": [
    "# Training and Evaluation Loop\n",
    "def train_and_evaluate_model(model, optimizer, batch_size = 128, epochs=25, print_every=5):\n",
    "    model.train()  # set model to train mode\n",
    "\n",
    "    train_loss_list=[]\n",
    "    test_loss_list = []\n",
    "\n",
    "    # Convert the tensor based data to torch Dataset objects\n",
    "    train_dataset = JobChangeDataset(X_train_tensor, y_train_tensor)\n",
    "    # Define torch data loader objects for these datasets\n",
    "    train_loader = DataLoader(dataset=train_dataset, batch_size=batch_size, shuffle=True)\n",
    "    \n",
    "    test_dataset = JobChangeDataset(X_test_tensor, y_test_tensor)\n",
    "    test_loader = DataLoader(dataset=test_dataset, batch_size=batch_size, shuffle=False)\n",
    "\n",
    "    criterion = nn.BCELoss()\n",
    "\n",
    "    # Train for the defined number of epochs\n",
    "    for epoch in range(epochs):\n",
    "        train_loss = 0.0\n",
    "        for i, (features, labels) in enumerate(train_loader):\n",
    "            optimizer.zero_grad() # Clear the gradients of all optimized variables\n",
    "            outputs = model(features) # pass our data(input features) through the model\n",
    "            loss = criterion(outputs.squeeze(), labels) # calculate the loss between model outputs and expected labels\n",
    "            loss.backward() # Backward pass: compute the gradient of the loss with respect to model parameters\n",
    "            optimizer.step() # Perform a single optimization step (parameter update)\n",
    "            train_loss += loss.item() # Accumulate the training loss to later calculate the average\n",
    "        \n",
    "        # Calculate the average training loss for current epoch\n",
    "        train_loss = train_loss / len(train_loader)\n",
    "        train_loss_list.append(train_loss)\n",
    "\n",
    "        # Evaluate on test set\n",
    "        model.eval() # Switch model to evaluation mode\n",
    "\n",
    "\n",
    "        \n",
    "        test_loss = 0.0\n",
    "        # Disable gradient calculation for evaluation to save memory and computations\n",
    "        with torch.no_grad():\n",
    "            # Iterate over the test dataset\n",
    "            for features, labels in test_loader:\n",
    "                outputs = model(features) # Forward pass: compute the output of the model by passing the input features\n",
    "                loss = criterion(outputs.squeeze(), labels) # Calculate the loss between the model output and expected labels\n",
    "                test_loss += loss.item() # Accumulate the test loss to later calculate the average\n",
    "            train_auc = roc_auc_score(y_train_tensor, model(X_train_tensor))\n",
    "            test_auc = roc_auc_score(y_test_tensor, model(X_test_tensor))\n",
    "        \n",
    "        # Calculate test loss for epoch\n",
    "        test_loss = test_loss / len(test_loader)\n",
    "        test_loss_list.append(test_loss)\n",
    "\n",
    "        # Print losses\n",
    "        if (epoch + 1) % print_every == 0:\n",
    "            print(f'Epoch {epoch+1}/{epochs},Train Loss: {train_loss:.4f}, Test Loss: {test_loss:.4f}, Train Auc: {train_auc:.4f}, Test Auc: {test_auc:.4f}')\n",
    "\n",
    "    plt.plot(range(epochs),train_loss_list, label = 'train')\n",
    "    plt.plot(range(epochs),test_loss_list, label = 'test')\n",
    "    plt.xlabel('Epochs')\n",
    "    plt.ylabel('Loss')\n",
    "    plt.title('Training and Test Loss')\n",
    "    plt.legend()\n",
    "    plt.show()"
   ]
  },
  {
   "cell_type": "code",
   "execution_count": 32,
   "id": "c2b7fb7d-cfb4-4e73-b568-c18ca9ce4144",
   "metadata": {},
   "outputs": [
    {
     "name": "stdout",
     "output_type": "stream",
     "text": [
      "Epoch 10/100,Train Loss: 0.3732, Test Loss: 0.3832, Train Auc: 0.6521, Test Auc: 0.6435\n",
      "Epoch 20/100,Train Loss: 0.3704, Test Loss: 0.3816, Train Auc: 0.6619, Test Auc: 0.6495\n",
      "Epoch 30/100,Train Loss: 0.3688, Test Loss: 0.3822, Train Auc: 0.6680, Test Auc: 0.6497\n",
      "Epoch 40/100,Train Loss: 0.3676, Test Loss: 0.3820, Train Auc: 0.6737, Test Auc: 0.6506\n",
      "Epoch 50/100,Train Loss: 0.3657, Test Loss: 0.3810, Train Auc: 0.6809, Test Auc: 0.6539\n",
      "Epoch 60/100,Train Loss: 0.3639, Test Loss: 0.3846, Train Auc: 0.6869, Test Auc: 0.6515\n",
      "Epoch 70/100,Train Loss: 0.3622, Test Loss: 0.3828, Train Auc: 0.6955, Test Auc: 0.6500\n",
      "Epoch 80/100,Train Loss: 0.3597, Test Loss: 0.3839, Train Auc: 0.7002, Test Auc: 0.6522\n",
      "Epoch 90/100,Train Loss: 0.3576, Test Loss: 0.3860, Train Auc: 0.7134, Test Auc: 0.6452\n",
      "Epoch 100/100,Train Loss: 0.3551, Test Loss: 0.3878, Train Auc: 0.7242, Test Auc: 0.6417\n"
     ]
    },
    {
     "data": {
      "image/png": "[encoded data removed]",
      "text/plain": [
       "<Figure size 640x480 with 1 Axes>"
      ]
     },
     "metadata": {},
     "output_type": "display_data"
    }
   ],
   "source": [
    "# We have to create a new model class here due the pass-by-reference feature of python functions\n",
    "model = BinaryClassifier()\n",
    "# Initialize SGD optimizer\n",
    "opt = optim.SGD(model.parameters(), lr=0.01, momentum=0.9, nesterov=True)\n",
    "# Train using optimizer_sgd\n",
    "train_and_evaluate_model(model, opt, epochs=100, print_every=10)"
   ]
  },
  {
   "cell_type": "markdown",
   "id": "a498cb79-adae-4be3-8da0-84ceae832871",
   "metadata": {},
   "source": [
    "Notice how the score does not improve significantly on test set after 10 epochs, but keeps on increasing on the train set. The model is clearly overfitting and noticeably the test loss on the epochs is also increasing gradually after 40 epochs. Moreover, there were certain epochs earlier in the training where the score was slightly better on the test set, but then decreased marginally. "
   ]
  },
  {
   "cell_type": "code",
   "execution_count": 33,
   "id": "32e2e288-e3ea-41bb-92b9-b5caadcb480b",
   "metadata": {},
   "outputs": [
    {
     "name": "stdout",
     "output_type": "stream",
     "text": [
      "Epoch 10/100,Train Loss: 0.3651, Test Loss: 0.3861, Train Auc: 0.6911, Test Auc: 0.6471\n",
      "Epoch 20/100,Train Loss: 0.3521, Test Loss: 0.3944, Train Auc: 0.7332, Test Auc: 0.6174\n",
      "Epoch 30/100,Train Loss: 0.3368, Test Loss: 0.4152, Train Auc: 0.7573, Test Auc: 0.6178\n",
      "Epoch 40/100,Train Loss: 0.3201, Test Loss: 0.4483, Train Auc: 0.7900, Test Auc: 0.5989\n",
      "Epoch 50/100,Train Loss: 0.3058, Test Loss: 0.4888, Train Auc: 0.8171, Test Auc: 0.5893\n",
      "Epoch 60/100,Train Loss: 0.2852, Test Loss: 0.5557, Train Auc: 0.8460, Test Auc: 0.5759\n",
      "Epoch 70/100,Train Loss: 0.2679, Test Loss: 0.6324, Train Auc: 0.8650, Test Auc: 0.5560\n",
      "Epoch 80/100,Train Loss: 0.2552, Test Loss: 0.7091, Train Auc: 0.8834, Test Auc: 0.5593\n",
      "Epoch 90/100,Train Loss: 0.2400, Test Loss: 0.9072, Train Auc: 0.9008, Test Auc: 0.5544\n",
      "Epoch 100/100,Train Loss: 0.2217, Test Loss: 1.0269, Train Auc: 0.9172, Test Auc: 0.5324\n"
     ]
    },
    {
     "data": {
      "image/png": "[encoded data removed]",
      "text/plain": [
       "<Figure size 640x480 with 1 Axes>"
      ]
     },
     "metadata": {},
     "output_type": "display_data"
    }
   ],
   "source": [
    "model = BinaryClassifier()\n",
    "# Initialize SGD optimizer\n",
    "opt = optim.Adam(model.parameters())\n",
    "# Train using optimizer_sgd\n",
    "train_and_evaluate_model(model, opt, epochs=100, print_every=10)"
   ]
  },
  {
   "cell_type": "markdown",
   "id": "465ef122-0626-44ef-87cd-fedbfb13efcc",
   "metadata": {},
   "source": [
    "As you can see, the model is even more  overfitting as the number of epochs are increasing. The test loss is increasing exponentially after 40 epochs.  Deep Neural networks often get into these kind of problems."
   ]
  },
  {
   "cell_type": "markdown",
   "id": "12b63389-276a-434f-9f02-5ab1bb2d7329",
   "metadata": {},
   "source": [
    "### Leaky ReLU"
   ]
  },
  {
   "cell_type": "code",
   "execution_count": 34,
   "id": "db22064d-be5a-4e73-a4f9-062b9f4d3229",
   "metadata": {},
   "outputs": [],
   "source": [
    "class BinaryClassifierLeakyReLU(nn.Module):\n",
    "    def __init__(self):\n",
    "        super(BinaryClassifierLeakyReLU, self).__init__()\n",
    "        self.layer1 = nn.Linear(X_train.shape[1], 256)\n",
    "        self.layer2 = nn.Linear(256, 128)\n",
    "        self.layer3 = nn.Linear(128, 64)\n",
    "        self.layer4 = nn.Linear(64, 1)\n",
    "        \n",
    "    def forward(self, x):\n",
    "        x = F.leaky_relu(self.layer1(x), negative_slope=0.01)  # Using Leaky ReLU\n",
    "        x = F.leaky_relu(self.layer2(x), negative_slope=0.01)  # Using Leaky ReLU\n",
    "        x = F.leaky_relu(self.layer3(x), negative_slope=0.01)  # Using Leaky ReLU\n",
    "        x = torch.sigmoid(self.layer4(x))  # Using sigmoid for binary classification\n",
    "        return x\n"
   ]
  },
  {
   "cell_type": "code",
   "execution_count": 35,
   "id": "1e452329-50b0-4796-afe6-b1dd215c3671",
   "metadata": {},
   "outputs": [
    {
     "name": "stdout",
     "output_type": "stream",
     "text": [
      "Epoch 10/100,Train Loss: 0.3664, Test Loss: 0.3855, Train Auc: 0.6900, Test Auc: 0.6552\n",
      "Epoch 20/100,Train Loss: 0.3526, Test Loss: 0.3978, Train Auc: 0.7283, Test Auc: 0.6370\n",
      "Epoch 30/100,Train Loss: 0.3353, Test Loss: 0.4225, Train Auc: 0.7646, Test Auc: 0.6050\n",
      "Epoch 40/100,Train Loss: 0.3149, Test Loss: 0.4831, Train Auc: 0.7892, Test Auc: 0.5863\n",
      "Epoch 50/100,Train Loss: 0.2913, Test Loss: 0.5956, Train Auc: 0.8346, Test Auc: 0.5761\n",
      "Epoch 60/100,Train Loss: 0.2710, Test Loss: 0.6547, Train Auc: 0.8615, Test Auc: 0.5630\n",
      "Epoch 70/100,Train Loss: 0.2533, Test Loss: 0.7857, Train Auc: 0.8822, Test Auc: 0.5573\n",
      "Epoch 80/100,Train Loss: 0.2362, Test Loss: 0.9412, Train Auc: 0.9048, Test Auc: 0.5450\n",
      "Epoch 90/100,Train Loss: 0.2203, Test Loss: 1.0037, Train Auc: 0.9158, Test Auc: 0.5522\n",
      "Epoch 100/100,Train Loss: 0.2094, Test Loss: 1.1902, Train Auc: 0.9268, Test Auc: 0.5511\n"
     ]
    },
    {
     "data": {
      "image/png": "[encoded data removed]",
      "text/plain": [
       "<Figure size 640x480 with 1 Axes>"
      ]
     },
     "metadata": {},
     "output_type": "display_data"
    }
   ],
   "source": [
    "model = BinaryClassifierLeakyReLU()\n",
    "# Initialize Adam optimizer\n",
    "optimizer = optim.Adam(model.parameters())\n",
    "# Train using optimizer\n",
    "train_and_evaluate_model(model, optimizer, epochs=100, print_every=10)"
   ]
  },
  {
   "cell_type": "markdown",
   "id": "db4febb3-8944-4a9d-b26f-b241ff5a4179",
   "metadata": {},
   "source": [
    "### Batch Normalization"
   ]
  },
  {
   "cell_type": "code",
   "execution_count": 36,
   "id": "7aa31516-abe8-47c8-8cb8-209c4df73125",
   "metadata": {},
   "outputs": [],
   "source": [
    "class BinaryClassifierBN(nn.Module):\n",
    "    def __init__(self):\n",
    "        super(BinaryClassifierBN, self).__init__()\n",
    "        self.layer1 = nn.Linear(X_train.shape[1], 256)\n",
    "        self.bn1 = nn.BatchNorm1d(256)  # Batch normalization layer\n",
    "        self.layer2 = nn.Linear(256, 128)\n",
    "        self.bn2 = nn.BatchNorm1d(128)  # Batch normalization layer\n",
    "        self.layer3 = nn.Linear(128, 64)\n",
    "        self.bn3 = nn.BatchNorm1d(64)  # Batch normalization layer\n",
    "        self.layer4 = nn.Linear(64, 1)\n",
    "        \n",
    "    def forward(self, x):\n",
    "        x = F.leaky_relu(self.bn1(self.layer1(x)), negative_slope=0.01)\n",
    "        x = F.leaky_relu(self.bn2(self.layer2(x)), negative_slope=0.01)\n",
    "        x = F.leaky_relu(self.bn3(self.layer3(x)), negative_slope=0.01)\n",
    "        x = torch.sigmoid(self.layer4(x))\n",
    "        return x"
   ]
  },
  {
   "cell_type": "code",
   "execution_count": 37,
   "id": "4870c398-38f9-473e-a91f-af93fd0650b1",
   "metadata": {},
   "outputs": [
    {
     "name": "stdout",
     "output_type": "stream",
     "text": [
      "Epoch 10/100,Train Loss: 0.3533, Test Loss: 0.3893, Train Auc: 0.7408, Test Auc: 0.6442\n",
      "Epoch 20/100,Train Loss: 0.3214, Test Loss: 0.4239, Train Auc: 0.8123, Test Auc: 0.6149\n",
      "Epoch 30/100,Train Loss: 0.2795, Test Loss: 0.5201, Train Auc: 0.8569, Test Auc: 0.5795\n",
      "Epoch 40/100,Train Loss: 0.2434, Test Loss: 0.6697, Train Auc: 0.9137, Test Auc: 0.5614\n",
      "Epoch 50/100,Train Loss: 0.2078, Test Loss: 0.7818, Train Auc: 0.9314, Test Auc: 0.5476\n",
      "Epoch 60/100,Train Loss: 0.1941, Test Loss: 0.9977, Train Auc: 0.9491, Test Auc: 0.5498\n",
      "Epoch 70/100,Train Loss: 0.1643, Test Loss: 1.1418, Train Auc: 0.9563, Test Auc: 0.5531\n",
      "Epoch 80/100,Train Loss: 0.1478, Test Loss: 1.3117, Train Auc: 0.9721, Test Auc: 0.5295\n",
      "Epoch 90/100,Train Loss: 0.1432, Test Loss: 1.4311, Train Auc: 0.9722, Test Auc: 0.5340\n",
      "Epoch 100/100,Train Loss: 0.1364, Test Loss: 1.5933, Train Auc: 0.9759, Test Auc: 0.5307\n"
     ]
    },
    {
     "data": {
      "image/png": "[encoded data removed]",
      "text/plain": [
       "<Figure size 640x480 with 1 Axes>"
      ]
     },
     "metadata": {},
     "output_type": "display_data"
    }
   ],
   "source": [
    "model = BinaryClassifierBN()\n",
    "# Initialize Adam optimizer\n",
    "optimizer = optim.Adam(model.parameters())\n",
    "# Train using optimizer_sgd\n",
    "train_and_evaluate_model(model, optimizer, epochs=100, print_every=10)"
   ]
  },
  {
   "cell_type": "markdown",
   "id": "c7e86624-d3af-45f2-9599-724e2a45150b",
   "metadata": {},
   "source": [
    "### Dropout for reducing overfitting"
   ]
  },
  {
   "cell_type": "code",
   "execution_count": 38,
   "id": "bae71cc1-a4bf-4ef7-817e-55612e97b07f",
   "metadata": {},
   "outputs": [],
   "source": [
    "class BinaryClassifierDropout(nn.Module):\n",
    "    def __init__(self):\n",
    "        super(BinaryClassifierDropout, self).__init__()\n",
    "        self.layer1 = nn.Linear(X_train.shape[1], 256)\n",
    "        self.bn1 = nn.BatchNorm1d(256)  # Batch normalization layer\n",
    "        self.dropout1 = nn.Dropout(0.5)\n",
    "        self.layer2 = nn.Linear(256, 128)\n",
    "        self.bn2 = nn.BatchNorm1d(128)  # Batch normalization layer\n",
    "        self.dropout2 = nn.Dropout(0.5)\n",
    "        self.layer3 = nn.Linear(128, 64)\n",
    "        self.bn3 = nn.BatchNorm1d(64)  # Batch normalization layer\n",
    "        self.dropout3 = nn.Dropout(0.5)\n",
    "        self.layer4 = nn.Linear(64, 1)\n",
    "        \n",
    "    def forward(self, x):\n",
    "        x = F.leaky_relu(self.bn1(self.layer1(x)), negative_slope=0.01)\n",
    "        x = self.dropout1(x)\n",
    "        x = F.leaky_relu(self.bn2(self.layer2(x)), negative_slope=0.01)\n",
    "        x = self.dropout2(x)\n",
    "        x = F.leaky_relu(self.bn3(self.layer3(x)), negative_slope=0.01)\n",
    "        x = self.dropout3(x)\n",
    "        x = torch.sigmoid(self.layer4(x))\n",
    "        return x\n"
   ]
  },
  {
   "cell_type": "code",
   "execution_count": 39,
   "id": "7382684b-51b6-44e2-bb1a-91934ad656fd",
   "metadata": {},
   "outputs": [
    {
     "name": "stdout",
     "output_type": "stream",
     "text": [
      "Epoch 10/100,Train Loss: 0.3582, Test Loss: 0.3873, Train Auc: 0.7248, Test Auc: 0.6462\n",
      "Epoch 20/100,Train Loss: 0.3354, Test Loss: 0.4024, Train Auc: 0.7894, Test Auc: 0.6217\n",
      "Epoch 30/100,Train Loss: 0.2945, Test Loss: 0.4695, Train Auc: 0.8595, Test Auc: 0.5905\n",
      "Epoch 40/100,Train Loss: 0.2475, Test Loss: 0.6105, Train Auc: 0.9027, Test Auc: 0.5626\n",
      "Epoch 50/100,Train Loss: 0.2122, Test Loss: 0.7845, Train Auc: 0.9352, Test Auc: 0.5398\n",
      "Epoch 60/100,Train Loss: 0.1865, Test Loss: 0.9785, Train Auc: 0.9529, Test Auc: 0.5280\n",
      "Epoch 70/100,Train Loss: 0.1700, Test Loss: 1.1366, Train Auc: 0.9589, Test Auc: 0.5325\n",
      "Epoch 80/100,Train Loss: 0.1500, Test Loss: 1.2884, Train Auc: 0.9679, Test Auc: 0.5345\n",
      "Epoch 90/100,Train Loss: 0.1335, Test Loss: 1.4594, Train Auc: 0.9746, Test Auc: 0.5275\n",
      "Epoch 100/100,Train Loss: 0.1215, Test Loss: 1.4806, Train Auc: 0.9809, Test Auc: 0.5447\n"
     ]
    },
    {
     "data": {
      "image/png": "[encoded data removed]",
      "text/plain": [
       "<Figure size 640x480 with 1 Axes>"
      ]
     },
     "metadata": {},
     "output_type": "display_data"
    }
   ],
   "source": [
    "model = BinaryClassifierDropout()\n",
    "# Initialize Adam optimizer\n",
    "optimizer = optim.Adam(model.parameters())\n",
    "# Train using optimizer_sgd\n",
    "train_and_evaluate_model(model, optimizer, epochs=100, print_every=10)"
   ]
  },
  {
   "cell_type": "markdown",
   "id": "1f9f459b-d635-49ce-9012-7f2d010de33a",
   "metadata": {},
   "source": [
    "### L2 regularization to reduce overfitting"
   ]
  },
  {
   "cell_type": "code",
   "execution_count": 40,
   "id": "7f1765e7-43f4-47a2-82b7-974e03fbed1f",
   "metadata": {},
   "outputs": [],
   "source": [
    "class BinaryClassifierL2(nn.Module):\n",
    "    def __init__(self):\n",
    "        super(BinaryClassifierL2, self).__init__()\n",
    "        self.layer1 = nn.Linear(X_train.shape[1], 256)\n",
    "        self.bn1 = nn.BatchNorm1d(256)  # Batch normalization layer\n",
    "        self.layer2 = nn.Linear(256, 128)\n",
    "        self.bn2 = nn.BatchNorm1d(128)  # Batch normalization layer\n",
    "        self.layer3 = nn.Linear(128, 64)\n",
    "        self.bn3 = nn.BatchNorm1d(64)  # Batch normalization layer\n",
    "        self.layer4 = nn.Linear(64, 1)\n",
    "        \n",
    "    def forward(self, x):\n",
    "        x = F.leaky_relu(self.bn1(self.layer1(x)), negative_slope=0.01)\n",
    "        x = F.leaky_relu(self.bn2(self.layer2(x)), negative_slope=0.01)\n",
    "        x = F.leaky_relu(self.bn3(self.layer3(x)), negative_slope=0.01)\n",
    "        x = torch.sigmoid(self.layer4(x))\n",
    "        return x"
   ]
  },
  {
   "cell_type": "code",
   "execution_count": 41,
   "id": "ce55de0d-cf4a-4961-a996-6c6449ffe575",
   "metadata": {},
   "outputs": [
    {
     "name": "stdout",
     "output_type": "stream",
     "text": [
      "Epoch 10/100,Train Loss: 0.3548, Test Loss: 0.3975, Train Auc: 0.7297, Test Auc: 0.6303\n",
      "Epoch 20/100,Train Loss: 0.3204, Test Loss: 0.4379, Train Auc: 0.8047, Test Auc: 0.6076\n",
      "Epoch 30/100,Train Loss: 0.2809, Test Loss: 0.5166, Train Auc: 0.8679, Test Auc: 0.5879\n",
      "Epoch 40/100,Train Loss: 0.2414, Test Loss: 0.6530, Train Auc: 0.9087, Test Auc: 0.5626\n",
      "Epoch 50/100,Train Loss: 0.2062, Test Loss: 0.8425, Train Auc: 0.9347, Test Auc: 0.5454\n",
      "Epoch 60/100,Train Loss: 0.1799, Test Loss: 1.0809, Train Auc: 0.9494, Test Auc: 0.5362\n",
      "Epoch 70/100,Train Loss: 0.1648, Test Loss: 1.1898, Train Auc: 0.9627, Test Auc: 0.5336\n",
      "Epoch 80/100,Train Loss: 0.1671, Test Loss: 1.3173, Train Auc: 0.9647, Test Auc: 0.5384\n",
      "Epoch 90/100,Train Loss: 0.1484, Test Loss: 1.6015, Train Auc: 0.9652, Test Auc: 0.5124\n",
      "Epoch 100/100,Train Loss: 0.1346, Test Loss: 1.6419, Train Auc: 0.9722, Test Auc: 0.5461\n"
     ]
    },
    {
     "data": {
      "image/png": "[encoded data removed]",
      "text/plain": [
       "<Figure size 640x480 with 1 Axes>"
      ]
     },
     "metadata": {},
     "output_type": "display_data"
    }
   ],
   "source": [
    "model = BinaryClassifierL2()\n",
    "# Initialize Adam optimizer\n",
    "optimizer = optim.Adam(model.parameters(), weight_decay=1e-5)\n",
    "# Train using optimizer_sgd\n",
    "train_and_evaluate_model(model, optimizer, epochs=100, print_every=10)"
   ]
  },
  {
   "cell_type": "markdown",
   "id": "0731f02b-3a7c-4189-98b4-8ad2369b50ab",
   "metadata": {},
   "source": [
    "### Early stopping to reduce overfitting"
   ]
  },
  {
   "cell_type": "code",
   "execution_count": 42,
   "id": "50895b00-b020-4de4-a415-ea4ff3b8001a",
   "metadata": {},
   "outputs": [],
   "source": [
    "# MANUAL\n",
    "# Training and Evaluation Loop\n",
    "def train_and_evaluate_model_es(model, optimizer, batch_size = 128, epochs=25, print_every=5):\n",
    "    model.train()  # set model to train mode\n",
    "\n",
    "    train_loss_list=[]\n",
    "    test_loss_list = []\n",
    "\n",
    "    best_val_loss = float('inf')\n",
    "    patience = 0\n",
    "    max_patience = 10  # Maximum epochs to wait for improvement\n",
    "\n",
    "    # Convert the tensor based data to torch Dataset objects\n",
    "    train_dataset = JobChangeDataset(X_train_tensor, y_train_tensor)\n",
    "    # Define torch data loader objects for these datasets\n",
    "    train_loader = DataLoader(dataset=train_dataset, batch_size=batch_size, shuffle=True)\n",
    "    \n",
    "    test_dataset = JobChangeDataset(X_test_tensor, y_test_tensor)\n",
    "    test_loader = DataLoader(dataset=test_dataset, batch_size=batch_size, shuffle=False)\n",
    "\n",
    "    criterion = nn.BCELoss()\n",
    "\n",
    "    # Train for the defined number of epochs\n",
    "    for epoch in range(epochs):\n",
    "        train_loss = 0.0\n",
    "        model.train() # set the model to train mode for each epoch, since we are setting it to eval mode later\n",
    "        for i, (features, labels) in enumerate(train_loader):\n",
    "            optimizer.zero_grad() # Clear the gradients of all optimized variables\n",
    "            outputs = model(features) # pass our data(input features) through the model\n",
    "            loss = criterion(outputs.squeeze(), labels) # calculate the loss between model outputs and expected labels\n",
    "            loss.backward() # Backward pass: compute the gradient of the loss with respect to model parameters\n",
    "            optimizer.step() # Perform a single optimization step (parameter update)\n",
    "            train_loss += loss.item() # Accumulate the training loss to later calculate the average\n",
    "        \n",
    "        # Calculate the average training loss for current epoch\n",
    "        train_loss = train_loss / len(train_loader)\n",
    "        train_loss_list.append(train_loss)\n",
    "\n",
    "        # Evaluate on test set\n",
    "        model.eval() # Switch model to evaluation mode\n",
    "        test_loss = 0.0\n",
    "        # Disable gradient calculation for evaluation to save memory and computations\n",
    "        with torch.no_grad():\n",
    "            # Iterate over the test dataset\n",
    "            for features, labels in test_loader:\n",
    "                outputs = model(features) # Forward pass: compute the output of the model by passing the input features\n",
    "                loss = criterion(outputs.squeeze(), labels) # Calculate the loss between the model output and expected labels\n",
    "                test_loss += loss.item() # Accumulate the test loss to later calculate the average\n",
    "            train_auc = roc_auc_score(y_train_tensor, model(X_train_tensor))\n",
    "            test_auc = roc_auc_score(y_test_tensor, model(X_test_tensor))\n",
    "        \n",
    "        # Calculate test loss for epoch\n",
    "        test_loss = test_loss / len(test_loader)\n",
    "        test_loss_list.append(test_loss)\n",
    "\n",
    "# Implementing Early stoping\n",
    "        if test_loss < best_val_loss:\n",
    "            best_val_loss = test_loss\n",
    "            patience = 0\n",
    "            # torch.save(model.state_dict(), 'best_model.pt')\n",
    "        else:\n",
    "            patience += 1\n",
    "\n",
    "        if patience >= max_patience:\n",
    "            print(f'Early stopped at {epoch+1}')\n",
    "            break  # Stop training\n",
    "\n",
    "        # Print losses\n",
    "        if (epoch + 1) % print_every == 0:\n",
    "            print(f'Epoch {epoch+1}/{epochs},Train Loss: {train_loss:.4f}, Test Loss: {test_loss:.4f}, Train Auc: {train_auc:.4f}, Test Auc: {test_auc:.4f}')\n",
    "\n",
    "    plt.plot(range(len(train_loss_list)),train_loss_list, label = 'train')\n",
    "    plt.plot(range(len(train_loss_list)),test_loss_list, label = 'test')\n",
    "    plt.legend()\n",
    "    plt.show()\n",
    "    \n",
    "    "
   ]
  },
  {
   "cell_type": "code",
   "execution_count": 43,
   "id": "292e75a6-b045-4d57-bbd8-5af25b1a84b1",
   "metadata": {},
   "outputs": [
    {
     "name": "stdout",
     "output_type": "stream",
     "text": [
      "Epoch 10/100,Train Loss: 0.3778, Test Loss: 0.3845, Train Auc: 0.6736, Test Auc: 0.6476\n",
      "Epoch 20/100,Train Loss: 0.3750, Test Loss: 0.3824, Train Auc: 0.6843, Test Auc: 0.6536\n",
      "Epoch 30/100,Train Loss: 0.3679, Test Loss: 0.3825, Train Auc: 0.6940, Test Auc: 0.6517\n",
      "Epoch 40/100,Train Loss: 0.3688, Test Loss: 0.3822, Train Auc: 0.7021, Test Auc: 0.6522\n",
      "Early stopped at 44\n"
     ]
    },
    {
     "data": {
      "image/png": "[encoded data removed]",
      "text/plain": [
       "<Figure size 640x480 with 1 Axes>"
      ]
     },
     "metadata": {},
     "output_type": "display_data"
    }
   ],
   "source": [
    "model = BinaryClassifierDropout()\n",
    "# Initialize Adam optimizer\n",
    "optimizer = optim.Adam(model.parameters())\n",
    "# Train using optimizer_sgd\n",
    "train_and_evaluate_model_es(model, optimizer, epochs=100, print_every=10)"
   ]
  },
  {
   "cell_type": "markdown",
   "id": "789da4bf-f9f9-4a21-a9d3-4dfbdf24b801",
   "metadata": {},
   "source": [
    "## Hyperparameter Tuning"
   ]
  },
  {
   "cell_type": "code",
   "execution_count": 44,
   "id": "f570e73b-71ce-4f02-b560-96e14ee1075e",
   "metadata": {},
   "outputs": [],
   "source": [
    "device = \"cpu\""
   ]
  },
  {
   "cell_type": "code",
   "execution_count": 45,
   "id": "932c2b07-cd17-417d-a5e3-f0b823efe137",
   "metadata": {},
   "outputs": [],
   "source": [
    "def train_and_evaluate_model_optuna(model, optimizer_optuna, batch_size=128, epochs=25, print_every=5, show_plot=False):\n",
    "    # model.to(device)  # Move the model to the designated device\n",
    "\n",
    "    model.train()  # Set model to train mode\n",
    "\n",
    "    train_loss_list = []\n",
    "    test_loss_list = []\n",
    "\n",
    "    # Convert the tensor-based data to torch Dataset objects\n",
    "    train_dataset = JobChangeDataset(X_train_tensor.to(device), y_train_tensor.to(device))\n",
    "    # Define torch data loader objects for these datasets\n",
    "    train_loader = DataLoader(dataset=train_dataset, batch_size=batch_size, shuffle=True)\n",
    "    \n",
    "    test_dataset = JobChangeDataset(X_test_tensor.to(device), y_test_tensor.to(device))\n",
    "    test_loader = DataLoader(dataset=test_dataset, batch_size=batch_size, shuffle=False)\n",
    "\n",
    "    criterion = nn.BCELoss()\n",
    "\n",
    "    # Train for the defined number of epochs\n",
    "    for epoch in range(epochs):\n",
    "        train_loss = 0.0\n",
    "        model.train()\n",
    "        for features, labels in train_loader:\n",
    "            # features, labels = features.to(device), labels.to(device)  # Move data to the device\n",
    "\n",
    "            optimizer_optuna.zero_grad()  # Clear the gradients of all optimized variables\n",
    "            outputs = model(features)  # Pass data through the model\n",
    "            loss = criterion(outputs.squeeze(), labels)  # Calculate loss\n",
    "            loss.backward()  # Backward pass: compute gradient of the loss with respect to model parameters\n",
    "            optimizer_optuna.step()  # Perform a single optimization step (parameter update)\n",
    "            train_loss += loss.item()  # Accumulate the training loss\n",
    "        \n",
    "        # Calculate the average training loss for the current epoch\n",
    "        train_loss /= len(train_loader)\n",
    "        train_loss_list.append(train_loss)\n",
    "\n",
    "        # Evaluate on the test set\n",
    "        model.eval()  # Switch model to evaluation mode\n",
    "        test_loss = 0.0\n",
    "        with torch.no_grad():  # Disable gradient calculation\n",
    "            for features, labels in test_loader:\n",
    "                # features, labels = features.to(device), labels.to(device)  # Move data to the device\n",
    "                outputs = model(features)\n",
    "                loss = criterion(outputs.squeeze(), labels)\n",
    "                test_loss += loss.item()\n",
    "                \n",
    "        test_loss /= len(test_loader)\n",
    "        test_loss_list.append(test_loss)\n",
    "\n",
    "        if (epoch + 1) % print_every == 0:\n",
    "            print(f'Epoch {epoch+1}/{epochs}, Train Loss: {train_loss:.4f}, Test Loss: {test_loss:.4f}')\n",
    "    \n",
    "            # set model to evaluation mode\n",
    "            model.eval()\n",
    "            with torch.no_grad():\n",
    "                train_preds = model(X_train_tensor.to(device)).squeeze()\n",
    "                test_preds = model(X_test_tensor.to(device)).squeeze()\n",
    "                train_auc = roc_auc_score(y_train_tensor.cpu(), train_preds.cpu())\n",
    "                test_auc = roc_auc_score(y_test_tensor.cpu(), test_preds.cpu())\n",
    "\n",
    "            print(f'Train AUC: {train_auc:.4f}, Test AUC: {test_auc:.4f}')\n",
    "    if (show_plot):\n",
    "        plt.plot(range(epochs),train_loss_list, label = 'train')\n",
    "        plt.plot(range(epochs),test_loss_list, label = 'test')\n",
    "        plt.legend()\n",
    "        plt.show()\n",
    "\n",
    "    # Returning the last epoch AUC values for Optuna optimization\n",
    "    return train_auc, test_auc  \n"
   ]
  },
  {
   "cell_type": "code",
   "execution_count": 46,
   "id": "89e4ba3f-fb11-4ef8-a436-c80f42925485",
   "metadata": {},
   "outputs": [],
   "source": [
    "class BinaryClassifierDropoutOptuna(nn.Module):\n",
    "    def __init__(self, num_features, num_classes, dropout_rate, num_layers, num_nodes):\n",
    "        super(BinaryClassifierDropoutOptuna, self).__init__()\n",
    "        layers = []\n",
    "        prev_nodes = num_features  # Input size\n",
    "        \n",
    "        # Dynamically create layers based on num_layers and num_nodes\n",
    "        for _ in range(num_layers):\n",
    "            layers.append(nn.Linear(prev_nodes, num_nodes))\n",
    "            layers.append(nn.ReLU()) # You could also try Leakt ReLU\n",
    "            layers.append(nn.Dropout(dropout_rate))\n",
    "            layers.append(nn.BatchNorm1d(num_nodes))\n",
    "            prev_nodes = num_nodes  # Update prev_nodes for the next layer\n",
    "        \n",
    "        # Output layer\n",
    "        layers.append(nn.Linear(prev_nodes, num_classes))\n",
    "        self.layers = nn.Sequential(*layers)\n",
    "        \n",
    "    def forward(self, x):\n",
    "        x = self.layers(x)\n",
    "        x = torch.sigmoid(x)  \n",
    "        return x\n",
    "\n"
   ]
  },
  {
   "cell_type": "code",
   "execution_count": 47,
   "id": "0e0f648c-9d4e-4f7c-98fa-db13bf573864",
   "metadata": {},
   "outputs": [],
   "source": [
    "def objective(trial):\n",
    "    # Hyperparameters to be optimized\n",
    "    dropout_rate = trial.suggest_float('dropout_rate', 0.1, 0.5) # trial range will be from 0.1 to 0.5\n",
    "    num_layers = trial.suggest_int('num_layers', 2, 5)  # Suggesting 1 to 3 layers\n",
    "    num_nodes = trial.suggest_categorical('num_nodes', [64, 128])  # Nodes per layer options\n",
    "    lr = trial.suggest_float('lr', 1e-5, 1e-1, log=True) # trying different learning rates\n",
    "    \n",
    "    # Model instantiation\n",
    "    model = BinaryClassifierDropoutOptuna(num_features=X_train.shape[1], num_classes=1, \n",
    "                                    dropout_rate=dropout_rate, num_layers=num_layers, num_nodes=num_nodes)\n",
    "    optimizer = optim.Adam(model.parameters(), lr=lr)\n",
    "    \n",
    "    # Train and evaluate the model\n",
    "    train_auc, test_auc = train_and_evaluate_model_optuna(model, optimizer, epochs=30, print_every=30)\n",
    "    \n",
    "    return test_auc\n"
   ]
  },
  {
   "cell_type": "markdown",
   "id": "756d7ab1-ca02-473e-8178-1ad2d998d0ea",
   "metadata": {},
   "source": [
    "In the above code the last line specifies to return the test_auc score. This will feed into the optuna library for optimization. This is because our ultimate goal is to maximize the test_auc score. With our ranges dialled in, next let's set the number of combinations we wish to try. We are going to try 50 combinations here. By default optuna.create study uses a TPE sampler which is a bayesian optimisation algorithm."
   ]
  },
  {
   "cell_type": "code",
   "execution_count": 53,
   "id": "4d8cf0c4-bb24-46cb-a5b0-a53093ef18cb",
   "metadata": {},
   "outputs": [
    {
     "name": "stderr",
     "output_type": "stream",
     "text": [
      "[I 2025-03-09 09:32:23,029] A new study created in memory with name: no-name-eb11ebde-2137-4eb9-acc5-07c4fd98fc25\n",
      "[I 2025-03-09 09:32:38,320] Trial 0 finished with value: 0.652984867591425 and parameters: {'dropout_rate': 0.3249913218115399, 'num_layers': 4, 'num_nodes': 64, 'lr': 0.030057720230117477}. Best is trial 0 with value: 0.652984867591425.\n"
     ]
    },
    {
     "name": "stdout",
     "output_type": "stream",
     "text": [
      "Epoch 30/30, Train Loss: 0.3758, Test Loss: 0.4120\n",
      "Train AUC: 0.6713, Test AUC: 0.6530\n"
     ]
    },
    {
     "name": "stderr",
     "output_type": "stream",
     "text": [
      "[I 2025-03-09 09:32:49,804] Trial 1 finished with value: 0.6437484237074402 and parameters: {'dropout_rate': 0.1457148833744241, 'num_layers': 4, 'num_nodes': 64, 'lr': 0.01100775561461841}. Best is trial 0 with value: 0.652984867591425.\n"
     ]
    },
    {
     "name": "stdout",
     "output_type": "stream",
     "text": [
      "Epoch 30/30, Train Loss: 0.3670, Test Loss: 0.3834\n",
      "Train AUC: 0.6958, Test AUC: 0.6437\n"
     ]
    },
    {
     "name": "stderr",
     "output_type": "stream",
     "text": [
      "[I 2025-03-09 09:33:01,454] Trial 2 finished with value: 0.6533855611601513 and parameters: {'dropout_rate': 0.21020474817297782, 'num_layers': 3, 'num_nodes': 128, 'lr': 0.03233518758611193}. Best is trial 2 with value: 0.6533855611601513.\n"
     ]
    },
    {
     "name": "stdout",
     "output_type": "stream",
     "text": [
      "Epoch 30/30, Train Loss: 0.3738, Test Loss: 0.4083\n",
      "Train AUC: 0.6732, Test AUC: 0.6534\n"
     ]
    },
    {
     "name": "stderr",
     "output_type": "stream",
     "text": [
      "[I 2025-03-09 09:33:10,299] Trial 3 finished with value: 0.6507118537200505 and parameters: {'dropout_rate': 0.26580973648555173, 'num_layers': 2, 'num_nodes': 128, 'lr': 0.009499383963645257}. Best is trial 2 with value: 0.6533855611601513.\n"
     ]
    },
    {
     "name": "stdout",
     "output_type": "stream",
     "text": [
      "Epoch 30/30, Train Loss: 0.3679, Test Loss: 0.3841\n",
      "Train AUC: 0.6854, Test AUC: 0.6507\n"
     ]
    },
    {
     "name": "stderr",
     "output_type": "stream",
     "text": [
      "[I 2025-03-09 09:33:21,926] Trial 4 finished with value: 0.6370116645649433 and parameters: {'dropout_rate': 0.22311403930499482, 'num_layers': 4, 'num_nodes': 64, 'lr': 4.838276187833565e-05}. Best is trial 2 with value: 0.6533855611601513.\n"
     ]
    },
    {
     "name": "stdout",
     "output_type": "stream",
     "text": [
      "Epoch 30/30, Train Loss: 0.4371, Test Loss: 0.4126\n",
      "Train AUC: 0.6532, Test AUC: 0.6370\n"
     ]
    },
    {
     "name": "stderr",
     "output_type": "stream",
     "text": [
      "[I 2025-03-09 09:33:30,813] Trial 5 finished with value: 0.6265176544766708 and parameters: {'dropout_rate': 0.4657356711160823, 'num_layers': 2, 'num_nodes': 128, 'lr': 3.623982612436275e-05}. Best is trial 2 with value: 0.6533855611601513.\n"
     ]
    },
    {
     "name": "stdout",
     "output_type": "stream",
     "text": [
      "Epoch 30/30, Train Loss: 0.4564, Test Loss: 0.4251\n",
      "Train AUC: 0.6553, Test AUC: 0.6265\n"
     ]
    },
    {
     "name": "stderr",
     "output_type": "stream",
     "text": [
      "[I 2025-03-09 09:33:40,048] Trial 6 finished with value: 0.6379861286254729 and parameters: {'dropout_rate': 0.3997266127272502, 'num_layers': 2, 'num_nodes': 128, 'lr': 1.0123462129537628e-05}. Best is trial 2 with value: 0.6533855611601513.\n"
     ]
    },
    {
     "name": "stdout",
     "output_type": "stream",
     "text": [
      "Epoch 30/30, Train Loss: 0.6605, Test Loss: 0.6566\n",
      "Train AUC: 0.6469, Test AUC: 0.6380\n"
     ]
    },
    {
     "name": "stderr",
     "output_type": "stream",
     "text": [
      "[I 2025-03-09 09:33:50,029] Trial 7 finished with value: 0.6435580075662043 and parameters: {'dropout_rate': 0.45129142009000855, 'num_layers': 3, 'num_nodes': 64, 'lr': 0.00023660789746644952}. Best is trial 2 with value: 0.6533855611601513.\n"
     ]
    },
    {
     "name": "stdout",
     "output_type": "stream",
     "text": [
      "Epoch 30/30, Train Loss: 0.3853, Test Loss: 0.3840\n",
      "Train AUC: 0.6629, Test AUC: 0.6436\n"
     ]
    },
    {
     "name": "stderr",
     "output_type": "stream",
     "text": [
      "[I 2025-03-09 09:34:02,374] Trial 8 finished with value: 0.6184445145018915 and parameters: {'dropout_rate': 0.1311639507855408, 'num_layers': 3, 'num_nodes': 128, 'lr': 1.1020825826178494e-05}. Best is trial 2 with value: 0.6533855611601513.\n"
     ]
    },
    {
     "name": "stdout",
     "output_type": "stream",
     "text": [
      "Epoch 30/30, Train Loss: 0.6166, Test Loss: 0.5791\n",
      "Train AUC: 0.6593, Test AUC: 0.6184\n"
     ]
    },
    {
     "name": "stderr",
     "output_type": "stream",
     "text": [
      "[I 2025-03-09 09:34:11,798] Trial 9 finished with value: 0.6210066204287515 and parameters: {'dropout_rate': 0.353364300989472, 'num_layers': 2, 'num_nodes': 128, 'lr': 1.76925494773191e-05}. Best is trial 2 with value: 0.6533855611601513.\n"
     ]
    },
    {
     "name": "stdout",
     "output_type": "stream",
     "text": [
      "Epoch 30/30, Train Loss: 0.5666, Test Loss: 0.5625\n",
      "Train AUC: 0.6508, Test AUC: 0.6210\n"
     ]
    },
    {
     "name": "stderr",
     "output_type": "stream",
     "text": [
      "[I 2025-03-09 09:34:29,859] Trial 10 finished with value: 0.640421185372005 and parameters: {'dropout_rate': 0.20505622383901725, 'num_layers': 5, 'num_nodes': 128, 'lr': 0.08113954767013196}. Best is trial 2 with value: 0.6533855611601513.\n"
     ]
    },
    {
     "name": "stdout",
     "output_type": "stream",
     "text": [
      "Epoch 30/30, Train Loss: 0.3896, Test Loss: 0.4386\n",
      "Train AUC: 0.6567, Test AUC: 0.6404\n"
     ]
    },
    {
     "name": "stderr",
     "output_type": "stream",
     "text": [
      "[I 2025-03-09 09:34:43,316] Trial 11 finished with value: 0.646779949558638 and parameters: {'dropout_rate': 0.3266148169557626, 'num_layers': 4, 'num_nodes': 64, 'lr': 0.05229269216172203}. Best is trial 2 with value: 0.6533855611601513.\n"
     ]
    },
    {
     "name": "stdout",
     "output_type": "stream",
     "text": [
      "Epoch 30/30, Train Loss: 0.3781, Test Loss: 0.3902\n",
      "Train AUC: 0.6723, Test AUC: 0.6468\n"
     ]
    },
    {
     "name": "stderr",
     "output_type": "stream",
     "text": [
      "[I 2025-03-09 09:37:02,825] Trial 12 finished with value: 0.6475605296343001 and parameters: {'dropout_rate': 0.2815195176813851, 'num_layers': 5, 'num_nodes': 64, 'lr': 0.0029413276583001432}. Best is trial 2 with value: 0.6533855611601513.\n"
     ]
    },
    {
     "name": "stdout",
     "output_type": "stream",
     "text": [
      "Epoch 30/30, Train Loss: 0.3695, Test Loss: 0.3833\n",
      "Train AUC: 0.6861, Test AUC: 0.6476\n"
     ]
    },
    {
     "name": "stderr",
     "output_type": "stream",
     "text": [
      "[I 2025-03-09 09:38:12,904] Trial 13 finished with value: 0.6495882723833544 and parameters: {'dropout_rate': 0.2110187542097451, 'num_layers': 3, 'num_nodes': 64, 'lr': 0.015118346285408799}. Best is trial 2 with value: 0.6533855611601513.\n"
     ]
    },
    {
     "name": "stdout",
     "output_type": "stream",
     "text": [
      "Epoch 30/30, Train Loss: 0.3689, Test Loss: 0.3864\n",
      "Train AUC: 0.6899, Test AUC: 0.6496\n"
     ]
    },
    {
     "name": "stderr",
     "output_type": "stream",
     "text": [
      "[I 2025-03-09 09:38:30,523] Trial 14 finished with value: 0.6486021437578814 and parameters: {'dropout_rate': 0.3755710759673524, 'num_layers': 4, 'num_nodes': 128, 'lr': 0.0010360194007469543}. Best is trial 2 with value: 0.6533855611601513.\n"
     ]
    },
    {
     "name": "stdout",
     "output_type": "stream",
     "text": [
      "Epoch 30/30, Train Loss: 0.3690, Test Loss: 0.3834\n",
      "Train AUC: 0.6991, Test AUC: 0.6486\n"
     ]
    },
    {
     "name": "stderr",
     "output_type": "stream",
     "text": [
      "[I 2025-03-09 09:38:40,899] Trial 15 finished with value: 0.6455394073139974 and parameters: {'dropout_rate': 0.2566475608218082, 'num_layers': 3, 'num_nodes': 64, 'lr': 0.03256914906377622}. Best is trial 2 with value: 0.6533855611601513.\n"
     ]
    },
    {
     "name": "stdout",
     "output_type": "stream",
     "text": [
      "Epoch 30/30, Train Loss: 0.3742, Test Loss: 0.3863\n",
      "Train AUC: 0.6679, Test AUC: 0.6455\n"
     ]
    },
    {
     "name": "stderr",
     "output_type": "stream",
     "text": [
      "[I 2025-03-09 09:38:55,206] Trial 16 finished with value: 0.6440860655737705 and parameters: {'dropout_rate': 0.173032718062153, 'num_layers': 5, 'num_nodes': 64, 'lr': 0.004982282605894376}. Best is trial 2 with value: 0.6533855611601513.\n"
     ]
    },
    {
     "name": "stdout",
     "output_type": "stream",
     "text": [
      "Epoch 30/30, Train Loss: 0.3663, Test Loss: 0.3840\n",
      "Train AUC: 0.6956, Test AUC: 0.6441\n"
     ]
    },
    {
     "name": "stderr",
     "output_type": "stream",
     "text": [
      "[I 2025-03-09 09:39:10,252] Trial 17 finished with value: 0.6443795712484237 and parameters: {'dropout_rate': 0.30944483300883535, 'num_layers': 4, 'num_nodes': 128, 'lr': 0.001040891030373079}. Best is trial 2 with value: 0.6533855611601513.\n"
     ]
    },
    {
     "name": "stdout",
     "output_type": "stream",
     "text": [
      "Epoch 30/30, Train Loss: 0.3663, Test Loss: 0.3854\n",
      "Train AUC: 0.7083, Test AUC: 0.6444\n"
     ]
    },
    {
     "name": "stderr",
     "output_type": "stream",
     "text": [
      "[I 2025-03-09 09:39:22,421] Trial 18 finished with value: 0.6402377049180328 and parameters: {'dropout_rate': 0.11039898424656733, 'num_layers': 3, 'num_nodes': 128, 'lr': 0.024992660333023504}. Best is trial 2 with value: 0.6533855611601513.\n"
     ]
    },
    {
     "name": "stdout",
     "output_type": "stream",
     "text": [
      "Epoch 30/30, Train Loss: 0.3698, Test Loss: 0.5750\n",
      "Train AUC: 0.6909, Test AUC: 0.6402\n"
     ]
    },
    {
     "name": "stderr",
     "output_type": "stream",
     "text": [
      "[I 2025-03-09 09:39:34,081] Trial 19 finished with value: 0.6384665825977303 and parameters: {'dropout_rate': 0.4184097274715536, 'num_layers': 4, 'num_nodes': 64, 'lr': 0.09536428316192957}. Best is trial 2 with value: 0.6533855611601513.\n"
     ]
    },
    {
     "name": "stdout",
     "output_type": "stream",
     "text": [
      "Epoch 30/30, Train Loss: 0.3907, Test Loss: 0.4586\n",
      "Train AUC: 0.6560, Test AUC: 0.6385\n"
     ]
    },
    {
     "name": "stderr",
     "output_type": "stream",
     "text": [
      "[I 2025-03-09 09:39:47,042] Trial 20 finished with value: 0.6468789407313997 and parameters: {'dropout_rate': 0.33318260595975513, 'num_layers': 3, 'num_nodes': 128, 'lr': 0.002891932850550815}. Best is trial 2 with value: 0.6533855611601513.\n"
     ]
    },
    {
     "name": "stdout",
     "output_type": "stream",
     "text": [
      "Epoch 30/30, Train Loss: 0.3667, Test Loss: 0.3832\n",
      "Train AUC: 0.7021, Test AUC: 0.6469\n"
     ]
    },
    {
     "name": "stderr",
     "output_type": "stream",
     "text": [
      "[I 2025-03-09 09:39:56,695] Trial 21 finished with value: 0.6480037831021437 and parameters: {'dropout_rate': 0.25085037294368917, 'num_layers': 2, 'num_nodes': 128, 'lr': 0.007552703872816128}. Best is trial 2 with value: 0.6533855611601513.\n"
     ]
    },
    {
     "name": "stdout",
     "output_type": "stream",
     "text": [
      "Epoch 30/30, Train Loss: 0.3675, Test Loss: 0.3831\n",
      "Train AUC: 0.6895, Test AUC: 0.6480\n"
     ]
    },
    {
     "name": "stderr",
     "output_type": "stream",
     "text": [
      "[I 2025-03-09 09:40:06,358] Trial 22 finished with value: 0.6507859394703657 and parameters: {'dropout_rate': 0.26597222961783534, 'num_layers': 2, 'num_nodes': 128, 'lr': 0.023994332234989164}. Best is trial 2 with value: 0.6533855611601513.\n"
     ]
    },
    {
     "name": "stdout",
     "output_type": "stream",
     "text": [
      "Epoch 30/30, Train Loss: 0.3725, Test Loss: 0.3835\n",
      "Train AUC: 0.6746, Test AUC: 0.6508\n"
     ]
    },
    {
     "name": "stderr",
     "output_type": "stream",
     "text": [
      "[I 2025-03-09 09:40:16,149] Trial 23 finished with value: 0.6467244640605296 and parameters: {'dropout_rate': 0.18229352344989436, 'num_layers': 2, 'num_nodes': 128, 'lr': 0.03071900730778353}. Best is trial 2 with value: 0.6533855611601513.\n"
     ]
    },
    {
     "name": "stdout",
     "output_type": "stream",
     "text": [
      "Epoch 30/30, Train Loss: 0.3734, Test Loss: 0.3913\n",
      "Train AUC: 0.6805, Test AUC: 0.6467\n"
     ]
    },
    {
     "name": "stderr",
     "output_type": "stream",
     "text": [
      "[I 2025-03-09 09:40:28,985] Trial 24 finished with value: 0.6339268600252207 and parameters: {'dropout_rate': 0.22947216067650794, 'num_layers': 3, 'num_nodes': 128, 'lr': 0.0002411830780238765}. Best is trial 2 with value: 0.6533855611601513.\n"
     ]
    },
    {
     "name": "stdout",
     "output_type": "stream",
     "text": [
      "Epoch 30/30, Train Loss: 0.3694, Test Loss: 0.3883\n",
      "Train AUC: 0.7146, Test AUC: 0.6339\n"
     ]
    },
    {
     "name": "stderr",
     "output_type": "stream",
     "text": [
      "[I 2025-03-09 09:40:44,704] Trial 25 finished with value: 0.6451664564943254 and parameters: {'dropout_rate': 0.2904727648273217, 'num_layers': 4, 'num_nodes': 128, 'lr': 0.01853356314153499}. Best is trial 2 with value: 0.6533855611601513.\n"
     ]
    },
    {
     "name": "stdout",
     "output_type": "stream",
     "text": [
      "Epoch 30/30, Train Loss: 0.3718, Test Loss: 0.4525\n",
      "Train AUC: 0.6773, Test AUC: 0.6452\n"
     ]
    },
    {
     "name": "stderr",
     "output_type": "stream",
     "text": [
      "[I 2025-03-09 09:40:55,086] Trial 26 finished with value: 0.6496172761664565 and parameters: {'dropout_rate': 0.30659835741401514, 'num_layers': 3, 'num_nodes': 64, 'lr': 0.04818714094167078}. Best is trial 2 with value: 0.6533855611601513.\n"
     ]
    },
    {
     "name": "stdout",
     "output_type": "stream",
     "text": [
      "Epoch 30/30, Train Loss: 0.3778, Test Loss: 0.3837\n",
      "Train AUC: 0.6691, Test AUC: 0.6496\n"
     ]
    },
    {
     "name": "stderr",
     "output_type": "stream",
     "text": [
      "[I 2025-03-09 09:41:04,993] Trial 27 finished with value: 0.6528950189155108 and parameters: {'dropout_rate': 0.3559766738908651, 'num_layers': 2, 'num_nodes': 128, 'lr': 0.003556486981536446}. Best is trial 2 with value: 0.6533855611601513.\n"
     ]
    },
    {
     "name": "stdout",
     "output_type": "stream",
     "text": [
      "Epoch 30/30, Train Loss: 0.3678, Test Loss: 0.3859\n",
      "Train AUC: 0.6934, Test AUC: 0.6529\n"
     ]
    },
    {
     "name": "stderr",
     "output_type": "stream",
     "text": [
      "[I 2025-03-09 09:41:19,609] Trial 28 finished with value: 0.64381210592686 and parameters: {'dropout_rate': 0.36920744140629513, 'num_layers': 5, 'num_nodes': 64, 'lr': 0.002064623140290561}. Best is trial 2 with value: 0.6533855611601513.\n"
     ]
    },
    {
     "name": "stdout",
     "output_type": "stream",
     "text": [
      "Epoch 30/30, Train Loss: 0.3696, Test Loss: 0.3842\n",
      "Train AUC: 0.6812, Test AUC: 0.6438\n"
     ]
    },
    {
     "name": "stderr",
     "output_type": "stream",
     "text": [
      "[I 2025-03-09 09:41:32,413] Trial 29 finished with value: 0.6477446406052965 and parameters: {'dropout_rate': 0.4344182142468559, 'num_layers': 4, 'num_nodes': 64, 'lr': 0.00035652276086614175}. Best is trial 2 with value: 0.6533855611601513.\n"
     ]
    },
    {
     "name": "stdout",
     "output_type": "stream",
     "text": [
      "Epoch 30/30, Train Loss: 0.3800, Test Loss: 0.3831\n",
      "Train AUC: 0.6580, Test AUC: 0.6477\n"
     ]
    },
    {
     "name": "stderr",
     "output_type": "stream",
     "text": [
      "[I 2025-03-09 09:41:45,834] Trial 30 finished with value: 0.6446661412358133 and parameters: {'dropout_rate': 0.3917880672145883, 'num_layers': 3, 'num_nodes': 128, 'lr': 0.007426548902499807}. Best is trial 2 with value: 0.6533855611601513.\n"
     ]
    },
    {
     "name": "stdout",
     "output_type": "stream",
     "text": [
      "Epoch 30/30, Train Loss: 0.3715, Test Loss: 0.3838\n",
      "Train AUC: 0.6815, Test AUC: 0.6447\n"
     ]
    },
    {
     "name": "stderr",
     "output_type": "stream",
     "text": [
      "[I 2025-03-09 09:41:55,719] Trial 31 finished with value: 0.6487068095838588 and parameters: {'dropout_rate': 0.3361793281211771, 'num_layers': 2, 'num_nodes': 128, 'lr': 0.0145920689571235}. Best is trial 2 with value: 0.6533855611601513.\n"
     ]
    },
    {
     "name": "stdout",
     "output_type": "stream",
     "text": [
      "Epoch 30/30, Train Loss: 0.3707, Test Loss: 0.3846\n",
      "Train AUC: 0.6829, Test AUC: 0.6487\n"
     ]
    },
    {
     "name": "stderr",
     "output_type": "stream",
     "text": [
      "[I 2025-03-09 09:42:05,638] Trial 32 finished with value: 0.6501440731399748 and parameters: {'dropout_rate': 0.26967133964779383, 'num_layers': 2, 'num_nodes': 128, 'lr': 0.004727037634018865}. Best is trial 2 with value: 0.6533855611601513.\n"
     ]
    },
    {
     "name": "stdout",
     "output_type": "stream",
     "text": [
      "Epoch 30/30, Train Loss: 0.3670, Test Loss: 0.4119\n",
      "Train AUC: 0.6990, Test AUC: 0.6501\n"
     ]
    },
    {
     "name": "stderr",
     "output_type": "stream",
     "text": [
      "[I 2025-03-09 09:42:15,616] Trial 33 finished with value: 0.649624842370744 and parameters: {'dropout_rate': 0.16408448023753275, 'num_layers': 2, 'num_nodes': 128, 'lr': 0.012547904337797915}. Best is trial 2 with value: 0.6533855611601513.\n"
     ]
    },
    {
     "name": "stdout",
     "output_type": "stream",
     "text": [
      "Epoch 30/30, Train Loss: 0.3677, Test Loss: 0.3851\n",
      "Train AUC: 0.6919, Test AUC: 0.6496\n"
     ]
    },
    {
     "name": "stderr",
     "output_type": "stream",
     "text": [
      "[I 2025-03-09 09:42:25,406] Trial 34 finished with value: 0.6427020807061792 and parameters: {'dropout_rate': 0.24341018705405237, 'num_layers': 2, 'num_nodes': 128, 'lr': 0.05545717363186743}. Best is trial 2 with value: 0.6533855611601513.\n"
     ]
    },
    {
     "name": "stdout",
     "output_type": "stream",
     "text": [
      "Epoch 30/30, Train Loss: 0.3779, Test Loss: 0.3862\n",
      "Train AUC: 0.6596, Test AUC: 0.6427\n"
     ]
    },
    {
     "name": "stderr",
     "output_type": "stream",
     "text": [
      "[I 2025-03-09 09:42:35,241] Trial 35 finished with value: 0.6496733921815888 and parameters: {'dropout_rate': 0.3089871195993513, 'num_layers': 2, 'num_nodes': 128, 'lr': 0.0223180320275272}. Best is trial 2 with value: 0.6533855611601513.\n"
     ]
    },
    {
     "name": "stdout",
     "output_type": "stream",
     "text": [
      "Epoch 30/30, Train Loss: 0.3722, Test Loss: 0.3838\n",
      "Train AUC: 0.6735, Test AUC: 0.6497\n"
     ]
    },
    {
     "name": "stderr",
     "output_type": "stream",
     "text": [
      "[I 2025-03-09 09:42:45,294] Trial 36 finished with value: 0.6490889029003784 and parameters: {'dropout_rate': 0.1968664989613015, 'num_layers': 2, 'num_nodes': 128, 'lr': 0.009669413480183233}. Best is trial 2 with value: 0.6533855611601513.\n"
     ]
    },
    {
     "name": "stdout",
     "output_type": "stream",
     "text": [
      "Epoch 30/30, Train Loss: 0.3672, Test Loss: 0.3844\n",
      "Train AUC: 0.6965, Test AUC: 0.6491\n"
     ]
    },
    {
     "name": "stderr",
     "output_type": "stream",
     "text": [
      "[I 2025-03-09 09:42:58,671] Trial 37 finished with value: 0.6373111601513242 and parameters: {'dropout_rate': 0.22969097886996287, 'num_layers': 3, 'num_nodes': 128, 'lr': 0.00010031895647023708}. Best is trial 2 with value: 0.6533855611601513.\n"
     ]
    },
    {
     "name": "stdout",
     "output_type": "stream",
     "text": [
      "Epoch 30/30, Train Loss: 0.3781, Test Loss: 0.3894\n",
      "Train AUC: 0.7040, Test AUC: 0.6373\n"
     ]
    },
    {
     "name": "stderr",
     "output_type": "stream",
     "text": [
      "[I 2025-03-09 09:43:11,856] Trial 38 finished with value: 0.6502351828499369 and parameters: {'dropout_rate': 0.494364125846337, 'num_layers': 4, 'num_nodes': 64, 'lr': 0.00152382677571746}. Best is trial 2 with value: 0.6533855611601513.\n"
     ]
    },
    {
     "name": "stdout",
     "output_type": "stream",
     "text": [
      "Epoch 30/30, Train Loss: 0.3732, Test Loss: 0.3835\n",
      "Train AUC: 0.6732, Test AUC: 0.6502\n"
     ]
    },
    {
     "name": "stderr",
     "output_type": "stream",
     "text": [
      "[I 2025-03-09 09:43:36,333] Trial 39 finished with value: 0.6449691046658259 and parameters: {'dropout_rate': 0.3533813629243686, 'num_layers': 2, 'num_nodes': 128, 'lr': 0.005253460587855009}. Best is trial 2 with value: 0.6533855611601513.\n"
     ]
    },
    {
     "name": "stdout",
     "output_type": "stream",
     "text": [
      "Epoch 30/30, Train Loss: 0.3690, Test Loss: 0.3864\n",
      "Train AUC: 0.6885, Test AUC: 0.6450\n"
     ]
    },
    {
     "name": "stderr",
     "output_type": "stream",
     "text": [
      "[I 2025-03-09 09:43:55,868] Trial 40 finished with value: 0.6477730138713744 and parameters: {'dropout_rate': 0.27260020373867705, 'num_layers': 3, 'num_nodes': 128, 'lr': 0.03825046349828011}. Best is trial 2 with value: 0.6533855611601513.\n"
     ]
    },
    {
     "name": "stdout",
     "output_type": "stream",
     "text": [
      "Epoch 30/30, Train Loss: 0.3763, Test Loss: 0.4393\n",
      "Train AUC: 0.6735, Test AUC: 0.6478\n"
     ]
    },
    {
     "name": "stderr",
     "output_type": "stream",
     "text": [
      "[I 2025-03-09 09:44:12,475] Trial 41 finished with value: 0.652001261034048 and parameters: {'dropout_rate': 0.14760703827799154, 'num_layers': 2, 'num_nodes': 128, 'lr': 0.009558802890622152}. Best is trial 2 with value: 0.6533855611601513.\n"
     ]
    },
    {
     "name": "stdout",
     "output_type": "stream",
     "text": [
      "Epoch 30/30, Train Loss: 0.3671, Test Loss: 0.4359\n",
      "Train AUC: 0.6916, Test AUC: 0.6520\n"
     ]
    },
    {
     "name": "stderr",
     "output_type": "stream",
     "text": [
      "[I 2025-03-09 09:44:27,354] Trial 42 finished with value: 0.6563228247162674 and parameters: {'dropout_rate': 0.14331808138632746, 'num_layers': 2, 'num_nodes': 128, 'lr': 0.010065314017315492}. Best is trial 42 with value: 0.6563228247162674.\n"
     ]
    },
    {
     "name": "stdout",
     "output_type": "stream",
     "text": [
      "Epoch 30/30, Train Loss: 0.3662, Test Loss: 0.3869\n",
      "Train AUC: 0.6954, Test AUC: 0.6563\n"
     ]
    },
    {
     "name": "stderr",
     "output_type": "stream",
     "text": [
      "[I 2025-03-09 09:44:40,513] Trial 43 finished with value: 0.6245958385876419 and parameters: {'dropout_rate': 0.13919741479506378, 'num_layers': 2, 'num_nodes': 128, 'lr': 0.0030810686912263593}. Best is trial 42 with value: 0.6563228247162674.\n"
     ]
    },
    {
     "name": "stdout",
     "output_type": "stream",
     "text": [
      "Epoch 30/30, Train Loss: 0.3577, Test Loss: 0.3945\n",
      "Train AUC: 0.7305, Test AUC: 0.6246\n"
     ]
    },
    {
     "name": "stderr",
     "output_type": "stream",
     "text": [
      "[I 2025-03-09 09:44:53,700] Trial 44 finished with value: 0.6442862547288777 and parameters: {'dropout_rate': 0.10312119471605953, 'num_layers': 2, 'num_nodes': 128, 'lr': 0.009985591242382135}. Best is trial 42 with value: 0.6563228247162674.\n"
     ]
    },
    {
     "name": "stdout",
     "output_type": "stream",
     "text": [
      "Epoch 30/30, Train Loss: 0.3655, Test Loss: 0.4483\n",
      "Train AUC: 0.6958, Test AUC: 0.6443\n"
     ]
    },
    {
     "name": "stderr",
     "output_type": "stream",
     "text": [
      "[I 2025-03-09 09:45:04,703] Trial 45 finished with value: 0.6478994325346785 and parameters: {'dropout_rate': 0.15599656450053093, 'num_layers': 2, 'num_nodes': 64, 'lr': 0.06545540425399445}. Best is trial 42 with value: 0.6563228247162674.\n"
     ]
    },
    {
     "name": "stdout",
     "output_type": "stream",
     "text": [
      "Epoch 30/30, Train Loss: 0.3776, Test Loss: 0.4225\n",
      "Train AUC: 0.6668, Test AUC: 0.6479\n"
     ]
    },
    {
     "name": "stderr",
     "output_type": "stream",
     "text": [
      "[I 2025-03-09 09:45:18,056] Trial 46 finished with value: 0.6330624211853719 and parameters: {'dropout_rate': 0.12006198864467532, 'num_layers': 2, 'num_nodes': 128, 'lr': 0.005628532022755961}. Best is trial 42 with value: 0.6563228247162674.\n"
     ]
    },
    {
     "name": "stdout",
     "output_type": "stream",
     "text": [
      "Epoch 30/30, Train Loss: 0.3614, Test Loss: 0.3927\n",
      "Train AUC: 0.7166, Test AUC: 0.6331\n"
     ]
    },
    {
     "name": "stderr",
     "output_type": "stream",
     "text": [
      "[I 2025-03-09 09:45:35,813] Trial 47 finished with value: 0.6233272383354351 and parameters: {'dropout_rate': 0.14870034675035193, 'num_layers': 3, 'num_nodes': 128, 'lr': 0.0006370542628254982}. Best is trial 42 with value: 0.6563228247162674.\n"
     ]
    },
    {
     "name": "stdout",
     "output_type": "stream",
     "text": [
      "Epoch 30/30, Train Loss: 0.3530, Test Loss: 0.4010\n",
      "Train AUC: 0.7581, Test AUC: 0.6233\n"
     ]
    },
    {
     "name": "stderr",
     "output_type": "stream",
     "text": [
      "[I 2025-03-09 09:45:49,202] Trial 48 finished with value: 0.6496576292559899 and parameters: {'dropout_rate': 0.12824716190782132, 'num_layers': 4, 'num_nodes': 64, 'lr': 0.014844451692991303}. Best is trial 42 with value: 0.6563228247162674.\n"
     ]
    },
    {
     "name": "stdout",
     "output_type": "stream",
     "text": [
      "Epoch 30/30, Train Loss: 0.3691, Test Loss: 0.4367\n",
      "Train AUC: 0.6855, Test AUC: 0.6497\n"
     ]
    },
    {
     "name": "stderr",
     "output_type": "stream",
     "text": [
      "[I 2025-03-09 09:46:08,674] Trial 49 finished with value: 0.6477957124842371 and parameters: {'dropout_rate': 0.20391862781490808, 'num_layers': 5, 'num_nodes': 128, 'lr': 0.003355344651538099}. Best is trial 42 with value: 0.6563228247162674.\n"
     ]
    },
    {
     "name": "stdout",
     "output_type": "stream",
     "text": [
      "Epoch 30/30, Train Loss: 0.3656, Test Loss: 0.3842\n",
      "Train AUC: 0.7084, Test AUC: 0.6478\n",
      "Best trial:\n",
      "  Value:  0.6563228247162674\n",
      "  Params: \n",
      "    dropout_rate: 0.14331808138632746\n",
      "    num_layers: 2\n",
      "    num_nodes: 128\n",
      "    lr: 0.010065314017315492\n"
     ]
    }
   ],
   "source": [
    "import optuna\n",
    "\n",
    "study = optuna.create_study(direction='maximize')\n",
    "study.optimize(objective, n_trials=50)\n",
    "\n",
    "# Display the best trial results\n",
    "print(\"Best trial:\")\n",
    "trial = study.best_trial\n",
    "print(\"  Value: \", trial.value)\n",
    "print(\"  Params: \")\n",
    "for key, value in trial.params.items():\n",
    "    print(f\"    {key}: {value}\")\n"
   ]
  },
  {
   "cell_type": "markdown",
   "id": "96b49241-bf73-4e2a-b154-81f99c5556d5",
   "metadata": {},
   "source": [
    "We've got our best model parameters. Let's now use these hyperparameters suggested by Optuna to build our model with early stopping. "
   ]
  },
  {
   "cell_type": "code",
   "execution_count": 54,
   "id": "4b04ae06-3344-40e8-b842-0bb44204ea18",
   "metadata": {},
   "outputs": [],
   "source": [
    "dropout_rate = trial.params['dropout_rate']\n",
    "num_layers = trial.params['num_layers']\n",
    "num_nodes = trial.params['num_nodes']\n",
    "lr = trial.params['lr']\n",
    "\n",
    "\n",
    "num_features = X_train.shape[1]  \n",
    "num_classes = 1  # For binary classification\n",
    "\n",
    "# Initialize model with best hyperparameters\n",
    "model = BinaryClassifierDropoutOptuna(num_features=num_features, num_classes=num_classes, \n",
    "                                 dropout_rate=dropout_rate, num_layers=num_layers, num_nodes=num_nodes).to(device)\n"
   ]
  },
  {
   "cell_type": "code",
   "execution_count": 55,
   "id": "9d5423f5-4df5-4133-b125-5b765c782717",
   "metadata": {},
   "outputs": [
    {
     "name": "stdout",
     "output_type": "stream",
     "text": [
      "Epoch 10/100,Train Loss: 0.3712, Test Loss: 0.3834, Train Auc: 0.6853, Test Auc: 0.6487\n",
      "Early stopped at 17\n"
     ]
    },
    {
     "data": {
      "image/png": "[encoded data removed]",
      "text/plain": [
       "<Figure size 640x480 with 1 Axes>"
      ]
     },
     "metadata": {},
     "output_type": "display_data"
    }
   ],
   "source": [
    "# Initialize Adam optimizer\n",
    "optimizer = optim.Adam(model.parameters(), lr=lr)\n",
    "# Train using optimizer_sgd\n",
    "train_and_evaluate_model_es(model, optimizer, epochs=100, print_every=10)"
   ]
  },
  {
   "cell_type": "markdown",
   "id": "a14af59e-41a4-4b9e-99e9-7e285b2a3f85",
   "metadata": {},
   "source": [
    "# Save and Deploy Model"
   ]
  },
  {
   "cell_type": "code",
   "execution_count": 56,
   "id": "94597dc5-7159-4ab4-975c-92811ef97351",
   "metadata": {},
   "outputs": [],
   "source": [
    "# Option 1\n",
    "torch.save(model.state_dict(), 'model.pth')"
   ]
  },
  {
   "cell_type": "code",
   "execution_count": 57,
   "id": "df090a2b-8481-401a-ab54-1668b892ea0a",
   "metadata": {},
   "outputs": [],
   "source": [
    "# Option 2: save complete model\n",
    "torch.save(model, 'model.pt')"
   ]
  }
 ],
 "metadata": {
  "kernelspec": {
   "display_name": "Python 3 (ipykernel)",
   "language": "python",
   "name": "python3"
  },
  "language_info": {
   "codemirror_mode": {
    "name": "ipython",
    "version": 3
   },
   "file_extension": ".py",
   "mimetype": "text/x-python",
   "name": "python",
   "nbconvert_exporter": "python",
   "pygments_lexer": "ipython3",
   "version": "3.12.5"
  }
 },
 "nbformat": 4,
 "nbformat_minor": 5
}
