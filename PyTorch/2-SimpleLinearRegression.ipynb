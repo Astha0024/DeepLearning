{
 "cells": [
  {
   "cell_type": "markdown",
   "id": "3647b5a9-a216-475f-a69f-e676eec2962c",
   "metadata": {},
   "source": [
    "### Load Data"
   ]
  },
  {
   "cell_type": "code",
   "execution_count": 1,
   "id": "5f7ac1fd-258c-4537-99f5-db1e84e80cc9",
   "metadata": {},
   "outputs": [],
   "source": [
    "import pandas as pd"
   ]
  },
  {
   "cell_type": "code",
   "execution_count": 2,
   "id": "5359a100-6a77-451e-941c-53ddbe01236c",
   "metadata": {},
   "outputs": [
    {
     "data": {
      "text/html": [
       "<div>\n",
       "<style scoped>\n",
       "    .dataframe tbody tr th:only-of-type {\n",
       "        vertical-align: middle;\n",
       "    }\n",
       "\n",
       "    .dataframe tbody tr th {\n",
       "        vertical-align: top;\n",
       "    }\n",
       "\n",
       "    .dataframe thead th {\n",
       "        text-align: right;\n",
       "    }\n",
       "</style>\n",
       "<table border=\"1\" class=\"dataframe\">\n",
       "  <thead>\n",
       "    <tr style=\"text-align: right;\">\n",
       "      <th></th>\n",
       "      <th>sat_sum</th>\n",
       "      <th>hs_gpa</th>\n",
       "      <th>fy_gpa</th>\n",
       "    </tr>\n",
       "  </thead>\n",
       "  <tbody>\n",
       "    <tr>\n",
       "      <th>0</th>\n",
       "      <td>508</td>\n",
       "      <td>3.40</td>\n",
       "      <td>3.18</td>\n",
       "    </tr>\n",
       "    <tr>\n",
       "      <th>1</th>\n",
       "      <td>488</td>\n",
       "      <td>4.00</td>\n",
       "      <td>3.33</td>\n",
       "    </tr>\n",
       "    <tr>\n",
       "      <th>2</th>\n",
       "      <td>464</td>\n",
       "      <td>3.75</td>\n",
       "      <td>3.25</td>\n",
       "    </tr>\n",
       "    <tr>\n",
       "      <th>3</th>\n",
       "      <td>380</td>\n",
       "      <td>3.75</td>\n",
       "      <td>2.42</td>\n",
       "    </tr>\n",
       "    <tr>\n",
       "      <th>4</th>\n",
       "      <td>428</td>\n",
       "      <td>4.00</td>\n",
       "      <td>2.63</td>\n",
       "    </tr>\n",
       "  </tbody>\n",
       "</table>\n",
       "</div>"
      ],
      "text/plain": [
       "   sat_sum  hs_gpa  fy_gpa\n",
       "0      508    3.40    3.18\n",
       "1      488    4.00    3.33\n",
       "2      464    3.75    3.25\n",
       "3      380    3.75    2.42\n",
       "4      428    4.00    2.63"
      ]
     },
     "execution_count": 2,
     "metadata": {},
     "output_type": "execute_result"
    }
   ],
   "source": [
    "# Loading data\n",
    "data = pd.read_csv('Prodigy University Dataset.csv')\n",
    "# Split the data into features (X) and target (y)\n",
    "data.head()"
   ]
  },
  {
   "cell_type": "markdown",
   "id": "0dc11d76-7acc-444b-9134-fd591c871b1a",
   "metadata": {},
   "source": [
    "### Data pre-processing"
   ]
  },
  {
   "cell_type": "code",
   "execution_count": 3,
   "id": "25876264-ce77-47b2-aa53-1367e33e510b",
   "metadata": {},
   "outputs": [
    {
     "name": "stdout",
     "output_type": "stream",
     "text": [
      "(1000, 2)\n",
      "(1000, 1)\n"
     ]
    }
   ],
   "source": [
    "# Converting data to numpy so that we can build tensor\n",
    "X = data[['sat_sum', 'hs_gpa']].values\n",
    "# reshape the fy_gpa into a 2D array with [data_size] rows and 1 column\n",
    "y = data['fy_gpa'].values.reshape(-1, 1)\n",
    "print(X.shape)\n",
    "print(y.shape)"
   ]
  },
  {
   "cell_type": "code",
   "execution_count": 4,
   "id": "32ae64ce-3f71-4434-8127-3868e77f5263",
   "metadata": {},
   "outputs": [],
   "source": [
    "from sklearn.model_selection import train_test_split\n",
    "# Split the data into training and testing sets\n",
    "X_train, X_test, y_train, y_test = train_test_split(X, y, test_size=0.2, random_state=42)"
   ]
  },
  {
   "cell_type": "code",
   "execution_count": 5,
   "id": "a1d63ebc-a244-4980-8de6-0c01a4b533bb",
   "metadata": {},
   "outputs": [],
   "source": [
    "from sklearn.preprocessing import StandardScaler\n",
    "\n",
    "# Normalize the features so that it is easier to train the data\n",
    "scaler = StandardScaler()\n",
    "X_train= scaler.fit_transform(X_train)\n",
    "X_test= scaler.fit_transform(X_test)"
   ]
  },
  {
   "cell_type": "code",
   "execution_count": 6,
   "id": "7ec6756c-09d1-40c2-ab1f-9d1f526ae116",
   "metadata": {},
   "outputs": [
    {
     "data": {
      "text/plain": [
       "(800, 2)"
      ]
     },
     "execution_count": 6,
     "metadata": {},
     "output_type": "execute_result"
    }
   ],
   "source": [
    "X_train.shape"
   ]
  },
  {
   "cell_type": "code",
   "execution_count": 8,
   "id": "15b85d0e-c798-42e9-b51f-af42149c8ba6",
   "metadata": {},
   "outputs": [],
   "source": [
    "import torch\n",
    "# Convert numpy to PyTorch tensors\n",
    "X_train_tensor = torch.tensor(X_train, dtype=torch.float32)\n",
    "y_train_tensor = torch.tensor(y_train, dtype=torch.float32)\n",
    "X_test_tensor = torch.tensor(X_test, dtype=torch.float32)\n",
    "y_test_tensor = torch.tensor(y_test, dtype=torch.float32)"
   ]
  },
  {
   "cell_type": "markdown",
   "id": "ea47c7c6-c974-4865-91ce-4d30adee87fd",
   "metadata": {},
   "source": [
    "### Building the Model"
   ]
  },
  {
   "cell_type": "code",
   "execution_count": 9,
   "id": "fc1dc6b2-b1ca-4fb1-83f2-14cb6e5d313a",
   "metadata": {},
   "outputs": [],
   "source": [
    "import torch.nn as nn"
   ]
  },
  {
   "cell_type": "code",
   "execution_count": 10,
   "id": "ef42a4a7-53cb-4c68-a09e-a240246881c5",
   "metadata": {},
   "outputs": [],
   "source": [
    "# Building model with 2 neurons\n",
    "model = nn.Sequential(\n",
    "    nn.Linear(2, 2), # 2 input features, 1 hidden layer with 2 neurons\n",
    "    nn.Sigmoid(), \n",
    "    nn.Linear(2, 1) # output layer with single neuron output\n",
    ")\n",
    "\n",
    "# We use sigmoid activation function for hidden layer and linear activation function for output layer"
   ]
  },
  {
   "cell_type": "code",
   "execution_count": 11,
   "id": "63250876-15fe-4f94-abbb-aa93941ce0c9",
   "metadata": {},
   "outputs": [],
   "source": [
    "# Forward Propagation\n",
    "preds = model(X_train_tensor)"
   ]
  },
  {
   "cell_type": "code",
   "execution_count": 12,
   "id": "872467f7-699b-4d20-9be5-c3f4fe2f310f",
   "metadata": {},
   "outputs": [
    {
     "data": {
      "text/plain": [
       "tensor([[-0.9278],\n",
       "        [-0.8987],\n",
       "        [-0.6996],\n",
       "        [-0.8377],\n",
       "        [-0.7490]], grad_fn=<SliceBackward0>)"
      ]
     },
     "execution_count": 12,
     "metadata": {},
     "output_type": "execute_result"
    }
   ],
   "source": [
    "preds[:5]"
   ]
  },
  {
   "cell_type": "code",
   "execution_count": 13,
   "id": "a86cddaf-afa6-4dca-995d-187b8427a2b4",
   "metadata": {},
   "outputs": [],
   "source": [
    "from torch.nn import MSELoss"
   ]
  },
  {
   "cell_type": "code",
   "execution_count": 14,
   "id": "d425d597-4d18-4d3e-871e-af0105c8467e",
   "metadata": {},
   "outputs": [
    {
     "name": "stdout",
     "output_type": "stream",
     "text": [
      "tensor(11.0022, grad_fn=<MseLossBackward0>)\n"
     ]
    }
   ],
   "source": [
    "# Calculating Loss\n",
    "criterion = MSELoss()\n",
    "loss = criterion(preds, y_train_tensor)\n",
    "print(loss)\n",
    "# very high loss"
   ]
  },
  {
   "cell_type": "code",
   "execution_count": null,
   "id": "e879cb48-b187-455c-ad8a-44dc033151f8",
   "metadata": {},
   "outputs": [],
   "source": []
  },
  {
   "cell_type": "code",
   "execution_count": null,
   "id": "4fc66e59-7555-4503-8951-ef2e3537c8a8",
   "metadata": {},
   "outputs": [],
   "source": []
  },
  {
   "cell_type": "code",
   "execution_count": null,
   "id": "a9ec475a-59af-4dc6-b88c-45c5171e092b",
   "metadata": {},
   "outputs": [],
   "source": []
  }
 ],
 "metadata": {
  "kernelspec": {
   "display_name": "Python 3 (ipykernel)",
   "language": "python",
   "name": "python3"
  },
  "language_info": {
   "codemirror_mode": {
    "name": "ipython",
    "version": 3
   },
   "file_extension": ".py",
   "mimetype": "text/x-python",
   "name": "python",
   "nbconvert_exporter": "python",
   "pygments_lexer": "ipython3",
   "version": "3.12.5"
  }
 },
 "nbformat": 4,
 "nbformat_minor": 5
}
